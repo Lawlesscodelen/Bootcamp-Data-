{
 "cells": [
  {
   "cell_type": "markdown",
   "metadata": {},
   "source": [
    "# Shortcuts para Jupyter lab"
   ]
  },
  {
   "cell_type": "markdown",
   "metadata": {},
   "source": [
    "Con la celda en azul podemos:\n",
    "\n",
    "    añadir una celda hacia arriba pulsando a\n",
    "    añadir una celda hacia abajo pulsando b\n",
    "    copiar una celda completa pulsando c\n",
    "    borrar una celda pulsando d(x2)\n",
    "    ejecutar y avanzar una celda pulsando SHIFT + INTRO\n",
    "    ejecutar la celda seleccionada pulsando CONTROL + INTRO\n",
    "    volver al estado anterior pulsando z\n",
    "    para comentar y descomentar un bloque de código CONTROL + MENOS\n",
    "    para ver una pequeña ayuda a las funciones: nos colocamos dentro de la funcion y hacemos SHIFT + TAB"
   ]
  },
  {
   "cell_type": "markdown",
   "metadata": {},
   "source": [
    "# Como escribir en markdown\n",
    "\n",
    "[markdown](https://markdown.es/sintaxis-markdown/)"
   ]
  },
  {
   "cell_type": "markdown",
   "metadata": {},
   "source": [
    "# Introducción a Python\n",
    "\n",
    "\n",
    "\n",
    "* Lenguaje de programación interpretado -> código legible.\n",
    "* Programación orientada a objetos\n",
    "* Programación funcional\n",
    "* Lenguaje de programación multiusos"
   ]
  },
  {
   "cell_type": "markdown",
   "metadata": {},
   "source": [
    "## Preparando el entorno"
   ]
  },
  {
   "cell_type": "markdown",
   "metadata": {},
   "source": [
    "Para proceder a la preparación del entorno vamos a utilizar Anaconda. Anaconda es un gestor de paquetes que instala librerias que son utilizadas en Daata Science. Además es un gestor de entornos. Además de utilizar Anaconda en algun momento utilizaremos pip, otro gestor de paquetes.\n",
    "Para la instalación vamos a utlizara las instrucciones que se encientran aquí. https://docs.anaconda.com/anaconda/install/\n",
    "\n"
   ]
  },
  {
   "cell_type": "code",
   "execution_count": null,
   "metadata": {},
   "outputs": [],
   "source": [
    "from IPython.display import IFrame"
   ]
  },
  {
   "cell_type": "markdown",
   "metadata": {},
   "source": [
    "## Comprobación del entorno\n",
    "\n",
    "\n",
    "En este ejercicio vamos a comprobar que tenemos correctamente configurado el entorno. \n",
    "\n",
    "- Comprobar la versión de python instalada.\n",
    "- Obtener la lista de paquetes instalada usando conda\n",
    "\n"
   ]
  },
  {
   "cell_type": "code",
   "execution_count": null,
   "metadata": {},
   "outputs": [],
   "source": [
    "IFrame(src = \"https://kapeli.com/cheat_sheets/Conda.docset/Contents/Resources/Documents/index\", width=800, height=400)"
   ]
  },
  {
   "cell_type": "code",
   "execution_count": null,
   "metadata": {},
   "outputs": [],
   "source": [
    "# Esta celda solo funcionará para los usuarios de mac o linux, en windows el comando es dir\n",
    "!pwd"
   ]
  },
  {
   "cell_type": "code",
   "execution_count": null,
   "metadata": {},
   "outputs": [],
   "source": [
    "!conda info"
   ]
  },
  {
   "cell_type": "markdown",
   "metadata": {},
   "source": [
    "# Como abordar el proceso de desarrollo.\n",
    "\n",
    "Antes de empezar, es necesario entender cuales son los pasos necesarios para desarollar software. Qué debemos hacer?\n",
    "\n",
    "1. Análisis del problema\n",
    "2. Especificaciones\n",
    "3. Diseño de la solución \n",
    "4. Implementación\n",
    "5. Pruebas\n",
    "\n",
    "Es importante entender el problema:\n",
    "- Que datos vamos a tener. Como nos van a llegar\n",
    "- Que esperamos obtener\n",
    "- Cuales son las transformaciones/acciones que tenemos que realizar?\n",
    "\n",
    "Especificaciones\n",
    "- Debemos definir de manera rápida que queremos obtener.\n",
    "- Cuales sera´n los inputs/oputpus. como es la interacción\n",
    "\n",
    "Diseño de la solución\n",
    "- Aquí comenzamos a definir los componentes que tendrá nuestra solución\n",
    "- Como modelaremos los elementos de la misma de acuerdo a las capacidades que nos den las herramientas que vamos a usar\n",
    "- Definiremos funciones y métodos y/o clases.\n",
    "- definiremos las funcionalidades esperadas para cada método o función.\n",
    "\n",
    "Implementación\n",
    "- Aquí es cuando codificamos. \n",
    "- Tendremos que tener en cuenta que herramientas podemos reutilizar, que librerias\n",
    "- Codificamos\n",
    "\n",
    "Pruebas\n",
    "- En el caso de Data Science, vamos a aproximarnos al proceso de una forma muy funcional y secuencial, así que aordaremos las pruebas sobre la propia ejecución, pero es común definir durante el diseño las pruebas unitarias y de integración, o incluso utilizar aproximaciones orientadas a testing como TDD.\n"
   ]
  },
  {
   "cell_type": "raw",
   "metadata": {},
   "source": [
    "miPrimeraVariable = 8"
   ]
  },
  {
   "cell_type": "markdown",
   "metadata": {},
   "source": [
    "# Elementos de un programa\n",
    "\n",
    "**Comentarios** - permiten incluir descripciones al código sobre los objetivos, que se hace en cada lugar, etc. Es muy importante usarlos, porque nuestra memoria es peor de lo que creemos.\n",
    "\n",
    "**Nombres** - las funciones, variables, metodos, etc reciben identificadores. Son Case Sensitive, y debemos tratar de describir lo que estamos nombrando.   \n",
    "\n",
    "**Expresiones** - Las expresiones son fragmentos de código que producen o calculan nuevos datos. Pueden ser desde la más sencilla, que es un literal hasta formulas más complejas o que ejecutan funciones o metodos.\n",
    "\n",
    "**Output Statments** - Permiten mostrar los datos, variables y resultados de expresiones.\n",
    "\n",
    "**Assigment statements** - permiten asignar valores a variables. En general tienen el formato <variable> = <expresion>\n",
    "\n",
    "**Assigning input** - Son casos de asignación que recojen entrada de los usuarios en general por el interfaz del programa."
   ]
  },
  {
   "cell_type": "markdown",
   "metadata": {},
   "source": [
    "# Tipos de datos en python"
   ]
  },
  {
   "cell_type": "markdown",
   "metadata": {},
   "source": [
    "## Números enteros"
   ]
  },
  {
   "cell_type": "code",
   "execution_count": null,
   "metadata": {},
   "outputs": [],
   "source": [
    "x = 9\n",
    "x"
   ]
  },
  {
   "cell_type": "code",
   "execution_count": null,
   "metadata": {},
   "outputs": [],
   "source": [
    "x = int(10)\n",
    "x"
   ]
  },
  {
   "cell_type": "markdown",
   "metadata": {},
   "source": [
    "### ¿Qué podemos hacer?"
   ]
  },
  {
   "cell_type": "code",
   "execution_count": null,
   "metadata": {},
   "outputs": [],
   "source": [
    "4\n",
    "x = 5"
   ]
  },
  {
   "cell_type": "code",
   "execution_count": null,
   "metadata": {},
   "outputs": [],
   "source": [
    "2 + 4, 2 / 4, 6 - 10, 4 * 4, 3**3 "
   ]
  },
  {
   "cell_type": "code",
   "execution_count": null,
   "metadata": {},
   "outputs": [],
   "source": [
    "# ¿Qué resultado será?\n",
    "int(3/4)"
   ]
  },
  {
   "cell_type": "markdown",
   "metadata": {},
   "source": [
    "## Números decimales"
   ]
  },
  {
   "cell_type": "code",
   "execution_count": null,
   "metadata": {},
   "outputs": [],
   "source": [
    "x = .3\n",
    "x"
   ]
  },
  {
   "cell_type": "code",
   "execution_count": null,
   "metadata": {},
   "outputs": [],
   "source": [
    "x = float(3.5) # atención a que el separador decimal es el '.'\n",
    "x"
   ]
  },
  {
   "cell_type": "code",
   "execution_count": null,
   "metadata": {},
   "outputs": [],
   "source": [
    "x = 1e-16\n",
    "x"
   ]
  },
  {
   "cell_type": "markdown",
   "metadata": {},
   "source": [
    "### ¿Qué podemos hacer?"
   ]
  },
  {
   "cell_type": "code",
   "execution_count": null,
   "metadata": {},
   "outputs": [],
   "source": [
    "2.4 + 4.1, 2.3 / 4.06, 6 - 10.8, 4.3 * 4.1, 3.4**3.7"
   ]
  },
  {
   "cell_type": "markdown",
   "metadata": {},
   "source": [
    "## Cadenas de texto"
   ]
  },
  {
   "cell_type": "code",
   "execution_count": null,
   "metadata": {},
   "outputs": [],
   "source": [
    "x = \"\"\"\n",
    "\n",
    "hola\n",
    "\n",
    "\"\"\""
   ]
  },
  {
   "cell_type": "code",
   "execution_count": null,
   "metadata": {},
   "outputs": [],
   "source": [
    "x"
   ]
  },
  {
   "cell_type": "code",
   "execution_count": null,
   "metadata": {},
   "outputs": [],
   "source": [
    "x = 'Mi primera cadena de texto'\n",
    "x"
   ]
  },
  {
   "cell_type": "code",
   "execution_count": null,
   "metadata": {},
   "outputs": [],
   "source": [
    "x = str(7)\n",
    "x"
   ]
  },
  {
   "cell_type": "markdown",
   "metadata": {},
   "source": [
    "### ¿Qué podemos hacer?"
   ]
  },
  {
   "cell_type": "code",
   "execution_count": null,
   "metadata": {},
   "outputs": [],
   "source": [
    "x = 'Mi primera cadena de texto'\n",
    "x.lower(), x.upper()"
   ]
  },
  {
   "cell_type": "code",
   "execution_count": null,
   "metadata": {},
   "outputs": [],
   "source": [
    "x.split(' ')"
   ]
  },
  {
   "cell_type": "code",
   "execution_count": null,
   "metadata": {},
   "outputs": [],
   "source": [
    "x = '      eSto sE lleVaba En tiEmpOs quE nO QuiEro RecorDar     '\n",
    "x.strip().capitalize()"
   ]
  },
  {
   "cell_type": "code",
   "execution_count": null,
   "metadata": {},
   "outputs": [],
   "source": [
    "x = 'Hola'\n",
    "y = 'Mundo'\n",
    "x + y, (x + y)*2"
   ]
  },
  {
   "cell_type": "code",
   "execution_count": null,
   "metadata": {},
   "outputs": [],
   "source": [
    "'G00000000000L'.replace('0', 'O')"
   ]
  },
  {
   "cell_type": "code",
   "execution_count": null,
   "metadata": {},
   "outputs": [],
   "source": [
    "# Buscar que métodos tiene asociado el tipo str"
   ]
  },
  {
   "cell_type": "markdown",
   "metadata": {},
   "source": [
    "### Formateo de strings en python"
   ]
  },
  {
   "cell_type": "code",
   "execution_count": null,
   "metadata": {},
   "outputs": [],
   "source": [
    "name = 'Esteban Sánchez'\n",
    "years = 25\n",
    "print(f'Hola me llamo {name} y tengo {years} años')"
   ]
  },
  {
   "cell_type": "code",
   "execution_count": null,
   "metadata": {},
   "outputs": [],
   "source": [
    "cadena = 'La factura del curso de %s es de %0.2f euros' % ('data science'.upper(), int(12.345))\n",
    "print(cadena)"
   ]
  },
  {
   "cell_type": "markdown",
   "metadata": {},
   "source": [
    "## Booleanos"
   ]
  },
  {
   "cell_type": "code",
   "execution_count": null,
   "metadata": {},
   "outputs": [],
   "source": [
    "x = True\n",
    "y = False\n",
    "x, y"
   ]
  },
  {
   "cell_type": "markdown",
   "metadata": {},
   "source": [
    "### ¿Qué podemos hacer?"
   ]
  },
  {
   "cell_type": "code",
   "execution_count": null,
   "metadata": {},
   "outputs": [],
   "source": [
    "x = bool(1)\n",
    "y = bool(0)\n",
    "x, y"
   ]
  },
  {
   "cell_type": "code",
   "execution_count": null,
   "metadata": {},
   "outputs": [],
   "source": [
    "x, y = bool('true'), bool('True')\n",
    "print(x, y)\n",
    "xx, yy = bool('false'), bool('False')\n",
    "print(xx, yy)\n",
    "xxx = bool('')\n",
    "print(xxx)"
   ]
  },
  {
   "cell_type": "markdown",
   "metadata": {},
   "source": [
    "Hasta aqui hemos visto diferentes formas de asignar a una variable a un determinado tipo de dato, para ello hemos usado la asignación directa o funciones asociadas a ese tipo de dato. Sin embargo hay funciones como el 'print()' que no devuelven nada, solo enseñan resultado. Lo veremos en el siguiente bloque."
   ]
  },
  {
   "cell_type": "markdown",
   "metadata": {},
   "source": [
    "## Para completar"
   ]
  },
  {
   "cell_type": "code",
   "execution_count": null,
   "metadata": {},
   "outputs": [],
   "source": [
    "# Podemos ver siempre de que tipo es la variable que estamos tratando con la función 'type()'\n",
    "type(7), type(5.5), type(False), type('str')"
   ]
  },
  {
   "cell_type": "code",
   "execution_count": null,
   "metadata": {},
   "outputs": [],
   "source": [
    "# Además python cuenta con un tipo de datos especial que se llama None\n",
    "# este tipo de dato se usa cuando no se quiere especificar nada. Y no\n",
    "# soporta ningún tipo de operación.\n",
    "x = None\n",
    "type(x), bool(x)"
   ]
  },
  {
   "cell_type": "code",
   "execution_count": null,
   "metadata": {},
   "outputs": [],
   "source": [
    "None"
   ]
  },
  {
   "cell_type": "code",
   "execution_count": null,
   "metadata": {},
   "outputs": [],
   "source": [
    "x = 7\n",
    "val = type(x)\n",
    "print(val)"
   ]
  },
  {
   "cell_type": "code",
   "execution_count": null,
   "metadata": {},
   "outputs": [],
   "source": [
    "return_value = print('abc')\n",
    "# ¿Que va a pasar con la siguiente línea?\n",
    "print(return_value)"
   ]
  },
  {
   "cell_type": "markdown",
   "metadata": {},
   "source": [
    "# Ayudas"
   ]
  },
  {
   "cell_type": "code",
   "execution_count": null,
   "metadata": {},
   "outputs": [],
   "source": [
    "# Con el cursor dentro del método tambien podríamos ver la ayuda si pulsamos SHIFT + TABULADOR\n",
    "# str.replace()"
   ]
  },
  {
   "cell_type": "code",
   "execution_count": null,
   "metadata": {},
   "outputs": [],
   "source": [
    "str.replace?"
   ]
  },
  {
   "cell_type": "code",
   "execution_count": null,
   "metadata": {},
   "outputs": [],
   "source": [
    "help(str.replace)"
   ]
  },
  {
   "cell_type": "markdown",
   "metadata": {},
   "source": [
    "# Operaciones aritméticas\n",
    "\n",
    "| Operator     | Name           | Description                                            |\n",
    "|--------------|----------------|--------------------------------------------------------|\n",
    "| ``a + b``    | Addition       | Sum of ``a`` and ``b``                                 |\n",
    "| ``a - b``    | Subtraction    | Difference of ``a`` and ``b``                          |\n",
    "| ``a * b``    | Multiplication | Product of ``a`` and ``b``                             |\n",
    "| ``a / b``    | True division  | Quotient of ``a`` and ``b``                            |\n",
    "| ``a // b``   | Floor division | Quotient of ``a`` and ``b``, removing fractional parts |\n",
    "| ``a % b``    | Modulus        | Integer remainder after division of ``a`` by ``b``     |\n",
    "| ``a ** b``   | Exponentiation | ``a`` raised to the power of ``b``                     |\n",
    "| ``-a``       | Negation       | The negative of ``a``                                  |\n",
    "| ``+a``       | Unary plus     | ``a`` unchanged (rarely used)                          |\n",
    "\n",
    "Estas operaciones se pueden usar como la matemática básica que conocemos de primero se ejecutan los paréntesis, tras ello la multiplicación y la división y por último las operaciones aditivas."
   ]
  },
  {
   "cell_type": "markdown",
   "metadata": {},
   "source": [
    "## Floor division"
   ]
  },
  {
   "cell_type": "code",
   "execution_count": null,
   "metadata": {},
   "outputs": [],
   "source": [
    "print(f\"La 'floor division' es una división normal solo que el resultado es el número entero de la división. \" \\\n",
    "      f\"Hacer 10 // 3 = {10 // 3} es lo mismo que hacer el int(10 / 3) = {int(10/3)} que hicimos antes.\")"
   ]
  },
  {
   "cell_type": "markdown",
   "metadata": {},
   "source": [
    "## Modulus"
   ]
  },
  {
   "cell_type": "markdown",
   "metadata": {},
   "source": [
    "La operación módulo devuelve el resto de una división"
   ]
  },
  {
   "cell_type": "code",
   "execution_count": null,
   "metadata": {},
   "outputs": [],
   "source": [
    "10 % 5, 4 % 3, 3 % 4, 4 % 7"
   ]
  },
  {
   "cell_type": "markdown",
   "metadata": {},
   "source": [
    "**Ejercicio 1**: Escriber una función en la cual dado un número mayor que cero siempre devuelva el entero superior"
   ]
  },
  {
   "cell_type": "code",
   "execution_count": null,
   "metadata": {},
   "outputs": [],
   "source": [
    "def entero_superior(num):\n",
    "    x = int(num)\n",
    "    incremento = int((1 % num))\n",
    "    ret = x + incremento\n",
    "    return ret\n",
    "n = entero_superior(1.1)\n",
    "n"
   ]
  },
  {
   "cell_type": "markdown",
   "metadata": {},
   "source": [
    "## Para completar"
   ]
  },
  {
   "cell_type": "code",
   "execution_count": null,
   "metadata": {},
   "outputs": [],
   "source": [
    "# Podemos hacer una suma o una resta a una variable numérica de una forma más simple\n",
    "incr = 2\n",
    "value_sum = 2\n",
    "value_sum += incr\n",
    "print('Suma rapida: ', value_sum)\n",
    "value_res = 2\n",
    "value_res -= incr\n",
    "print('Resta rapida: ', value_res)\n",
    "value_mult = 7\n",
    "value_mult *= incr\n",
    "print('Multiplicación rapida: ', value_mult)"
   ]
  },
  {
   "cell_type": "markdown",
   "metadata": {},
   "source": [
    "**Ejercicio 2:**\n",
    "Escribe una función que calcule las soluciones de un polinomio de segundo grado:"
   ]
  },
  {
   "cell_type": "code",
   "execution_count": null,
   "metadata": {},
   "outputs": [],
   "source": [
    "def soluciones_segundo_grado(a, b, c):\n",
    "    sol1 = (-b + (b**2 - 4*a*c)**(.5))/(2*a)\n",
    "    sol2 = (-b - (b**2 - 4*a*c)**(.5))/(2*a)\n",
    "    return sol1, sol2\n",
    "assert soluciones_segundo_grado(1, -3, 2) == (2.0, 1.0)"
   ]
  },
  {
   "cell_type": "markdown",
   "metadata": {},
   "source": [
    "# Operaciones lógicas"
   ]
  },
  {
   "cell_type": "markdown",
   "metadata": {},
   "source": [
    "## Operaciones de comparación\n",
    "\n",
    "Estas operaciones siempre devuelven True o False por lo tanto devuelven booleanos.\n",
    "Las operaciones de comparación son:\n",
    "\n",
    "| Operation     | Description                       || Operation     | Description                          |\n",
    "|---------------|-----------------------------------||---------------|--------------------------------------|\n",
    "| ``a == b``    | ``a`` equal to ``b``              || ``a != b``    | ``a`` not equal to ``b``             |\n",
    "| ``a < b``     | ``a`` less than ``b``             || ``a > b``     | ``a`` greater than ``b``             |\n",
    "| ``a <= b``    | ``a`` less than or equal to ``b`` || ``a >= b``    | ``a`` greater than or equal to ``b`` |\n"
   ]
  },
  {
   "cell_type": "code",
   "execution_count": null,
   "metadata": {},
   "outputs": [],
   "source": [
    "x, y = 6, 7 # comprobar con booleanos\n",
    "print(f'¿Es x mayor que y? {x > y}')\n",
    "print(f'¿Es x menor que y? {x < y}')\n",
    "print(f'¿Es x igual que y? {x == y}')\n",
    "print(f'¿Es x diferente de y? {x != y}')"
   ]
  },
  {
   "cell_type": "code",
   "execution_count": null,
   "metadata": {},
   "outputs": [],
   "source": [
    "x, y = 'Casa', 'Casa'\n",
    "print(f'¿Es x mayor que y? {x > y}')\n",
    "print(f'¿Es x menor que y? {x < y}')\n",
    "print(f'¿Es x igual que y? {x == y}')\n",
    "print(f'¿Es x diferente de y? {x != y}')\n",
    "# ¿Cuál será mayor casa o taza?"
   ]
  },
  {
   "cell_type": "code",
   "execution_count": null,
   "metadata": {},
   "outputs": [],
   "source": [
    "print(\"barco\" >= \"moto\")\n",
    "print('osa' < 'oso')\n",
    "print('mas' < 'mascar')\n",
    "print('as' >= 'As')"
   ]
  },
  {
   "cell_type": "markdown",
   "metadata": {},
   "source": [
    "La comparación de cadenas de texto se hace de manera lexicográfica, esto es que se ordena semánticamente. Y además las mayúsculas son menores que las minúsculas. Depende del código ascii"
   ]
  },
  {
   "cell_type": "code",
   "execution_count": null,
   "metadata": {},
   "outputs": [],
   "source": [
    "'X' < 'x'"
   ]
  },
  {
   "cell_type": "code",
   "execution_count": null,
   "metadata": {},
   "outputs": [],
   "source": [
    "'!' < '?'"
   ]
  },
  {
   "cell_type": "code",
   "execution_count": null,
   "metadata": {},
   "outputs": [],
   "source": [
    "print(\"123\" == 123)\n",
    "print(int(\"123\") == 123)\n",
    "print(\"123\" == str(123))"
   ]
  },
  {
   "cell_type": "code",
   "execution_count": null,
   "metadata": {},
   "outputs": [],
   "source": [
    "int('n')"
   ]
  },
  {
   "cell_type": "code",
   "execution_count": null,
   "metadata": {},
   "outputs": [],
   "source": [
    "x = 10\n",
    "y = 7\n",
    "z = 3\n",
    "# ¿Qué saldrá de los siguientes prints?\n",
    "print(x < 5) \n",
    "print(x == y + z) \n",
    "print(x != x) \n",
    "print(y == 10 - 3) \n",
    "print(x**2 <= 100)"
   ]
  },
  {
   "cell_type": "markdown",
   "metadata": {},
   "source": [
    "### IF-ELIF-ELSE"
   ]
  },
  {
   "cell_type": "markdown",
   "metadata": {},
   "source": [
    "La estructura general de este tipo de algoritmos es la siguiente:\n",
    "\n",
    "\n",
    "```python\n",
    "if condicion_1 == True:\n",
    "    ...\n",
    "elif condicion_2 == 8:\n",
    "    ...\n",
    "else:\n",
    "    ...\n",
    "```\n",
    "\n",
    "Lo cual se lee: Si se cumple la condicion_1 hazme el bloque de código que hay justo debajo e identado, si esta condición no se cumple mira a ver si la condicion_2 lo hace y me calculas el bloque de código que hay debajo e identado. En el caso de que no se cumplan las condiciones 1 y 2 entonces me haces el bloque de código que está identado bajo el else.\n",
    "\n",
    "Esto se usa para validar variables y seleccionar lógicas a aplicar.\n",
    "\n",
    "##### **EL TAMAÑO (de la identación) IMPORTA**\n",
    "\n",
    "En C por ejemplo un bloque de código es:\n",
    "\n",
    "``` C\n",
    "// C code\n",
    "for(int i=0; i<100; i++)\n",
    "   {\n",
    "      // curly braces indicate code block\n",
    "      total += i;\n",
    "   }\n",
    "```\n",
    "\n",
    "mientras que en python no usamos llaves ni puntos y comas para explicitar un bloque de código o un fin de línea. En python cuando queremos especificar un bloque de código (como por ejemplo lo que ejecuta un IF-ELIF-ELSE, lo que ejecuta una función o lo que ejecuta un bucle) debemos acabar la línea con ':' y la siguiente empezarla con un tabulador o 4 espacios blancos. Tomemos el siguiente ejemplo de código como visual para ver esto de la identación:\n",
    "\n",
    "```python\n",
    "for i in _list:\n",
    "    if i:\n",
    "        return 'do_something1'\n",
    "    elif (i == 7) and (i <= 10):\n",
    "        return 'do_something2'\n",
    "    else:\n",
    "        return 'do_something3'\n",
    "```\n",
    "\n"
   ]
  },
  {
   "cell_type": "code",
   "execution_count": null,
   "metadata": {},
   "outputs": [],
   "source": []
  },
  {
   "cell_type": "code",
   "execution_count": null,
   "metadata": {},
   "outputs": [],
   "source": [
    "INPUT = 8\n",
    "if INPUT == 7:\n",
    "    print('La variable x es numérica y es 7')\n",
    "elif ((type(INPUT) != str) and (7 < INPUT < 10)):\n",
    "    print('La variable x está entre 7 y 10 abiertos')\n",
    "elif type(INPUT) == str:\n",
    "    print('La variable x es una cadena de texto')\n",
    "else:\n",
    "    print('Esta lógica no la tengo contemplada')"
   ]
  },
  {
   "cell_type": "markdown",
   "metadata": {},
   "source": [
    "Tambien tenemos opción de hacer condiciones anidadas"
   ]
  },
  {
   "cell_type": "code",
   "execution_count": null,
   "metadata": {},
   "outputs": [],
   "source": [
    "input_ = 8\n",
    "if input_ > 7:\n",
    "    print('El input de nuestro programa es mayor que 7')\n",
    "    print('¿Será mayor o igual de 10?')\n",
    "    if input_ >= 10:\n",
    "        print('\\t ¡Sí!')\n",
    "    else:\n",
    "        print('\\t Pues va a ser que no')\n",
    "else:\n",
    "    print('El número es menor o igual a 7')\n",
    "    "
   ]
  },
  {
   "cell_type": "markdown",
   "metadata": {},
   "source": [
    "**Ejercicio 3**: Escriber una función en la cual dado un número mayor o igual a 1 imprima el entero superior y validar si el número metido cumple la condición:"
   ]
  },
  {
   "cell_type": "code",
   "execution_count": null,
   "metadata": {},
   "outputs": [],
   "source": [
    "def entero_superior(num):\n",
    "    x = int(num)\n",
    "    if num < 1:\n",
    "        print('El número metido es menor que 1 por lo tanto no cumple la condición')\n",
    "    elif x == num:\n",
    "        print(num)\n",
    "    else:\n",
    "        incremento = int((1 % num))\n",
    "        print(x + incremento)\n",
    "entero_superior(-2)"
   ]
  },
  {
   "cell_type": "markdown",
   "metadata": {},
   "source": [
    "## Operaciones de identidad y pertenencia\n",
    "\n",
    "| Operator      | Description                                       |\n",
    "|---------------|---------------------------------------------------|\n",
    "| ``a is b``    | True if ``a`` and ``b`` are identical objects     |\n",
    "| ``a is not b``| True if ``a`` and ``b`` are not identical objects |\n",
    "| ``a in b``    | True if ``a`` is a member of ``b``                |\n",
    "| ``a not in b``| True if ``a`` is not a member of ``b``            |\n",
    "| ``a or b``    | True if a condition satisfies one or two of them  |"
   ]
  },
  {
   "cell_type": "code",
   "execution_count": null,
   "metadata": {},
   "outputs": [],
   "source": [
    "num = int(input('Elige número'))\n",
    "if num > 0 and num < 10:\n",
    "    print(\"Gracias\") \n",
    "else:\n",
    "    print(\"Número incorrecto\")"
   ]
  },
  {
   "cell_type": "code",
   "execution_count": null,
   "metadata": {},
   "outputs": [],
   "source": [
    "string = str(input('Dime un número')).lower()\n",
    "\n",
    "if string == 'dos' or string == 'tres':\n",
    "    print('gracias')\n",
    "else:\n",
    "    print('numero incorrecto')"
   ]
  },
  {
   "cell_type": "code",
   "execution_count": null,
   "metadata": {},
   "outputs": [],
   "source": [
    "nombre = str(input(\"¿Cual es el nombre de nuestro planeta? \")).upper()\n",
    "if nombre == \"TIERRA\":\n",
    "    print(\"¡Correcto!\") \n",
    "else:\n",
    "    print(\"Incorrecto\")"
   ]
  },
  {
   "cell_type": "code",
   "execution_count": null,
   "metadata": {},
   "outputs": [],
   "source": [
    "nombre = input(\"¿Cual es el nombre de nuestro planeta? \")\n",
    "if nombre == \"tierra\" or nombre == \"Tierra\":\n",
    "    print(\"¡Correcto!\") \n",
    "else:\n",
    "    print(\"Incorrecto\")"
   ]
  },
  {
   "cell_type": "code",
   "execution_count": null,
   "metadata": {},
   "outputs": [],
   "source": [
    "x = input('Dame algo')\n",
    "type(x)"
   ]
  },
  {
   "cell_type": "code",
   "execution_count": null,
   "metadata": {},
   "outputs": [],
   "source": [
    "x = int(input(\"Introduce un número: \")) \n",
    "if not x < 0:\n",
    "    print(\"El número es positivo\") "
   ]
  },
  {
   "cell_type": "markdown",
   "metadata": {},
   "source": [
    "## Operaciones bitwise\n",
    "\n",
    "| Operator     | Name            | Description                                 |\n",
    "|--------------|-----------------|---------------------------------------------|\n",
    "| ``a & b``    | Bitwise AND     | Bits defined in both ``a`` and ``b``        |\n",
    "| <code>a &#124; b</code>| Bitwise OR      | Bits defined in ``a`` or ``b`` or both      |\n",
    "| ``a ^ b``    | Bitwise XOR     | Bits defined in ``a`` or ``b`` but not both |\n",
    "| ``a << b``   | Bit shift left  | Shift bits of ``a`` left by ``b`` units     |\n",
    "| ``a >> b``   | Bit shift right | Shift bits of ``a`` right by ``b`` units    |\n",
    "| ``~a``       | Bitwise NOT     | Bitwise negation of ``a``                          |\n"
   ]
  },
  {
   "cell_type": "code",
   "execution_count": null,
   "metadata": {},
   "outputs": [],
   "source": [
    "x, y = 'Tiça', 'pleta'\n",
    "if (x == 'Tierra') ^ (y == 'planeta'):\n",
    "    print('Solo se cumple uno de los dos')\n",
    "elif (x == 'Tierra') & (y == 'planeta'):\n",
    "    print('Se cumplen los dos')\n",
    "elif (x == 'Tierra') | (y == 'planeta'):\n",
    "    print('Solo se cumple uno de os dos')\n",
    "else:\n",
    "    print('Suerte')\n",
    "# ¿Qué es lo que no está del todo correcto en la lógica de aqui? Pista: Se ejecuta en orden y solo la parte de la condición que hace True."
   ]
  },
  {
   "cell_type": "markdown",
   "metadata": {},
   "source": [
    "# Estructura de datos"
   ]
  },
  {
   "cell_type": "markdown",
   "metadata": {},
   "source": [
    "## Listas"
   ]
  },
  {
   "cell_type": "code",
   "execution_count": 9,
   "metadata": {},
   "outputs": [
    {
     "name": "stdout",
     "output_type": "stream",
     "text": [
      "<class 'list'> []\n"
     ]
    }
   ],
   "source": [
    "l = list()\n",
    "print(type(l), l)"
   ]
  },
  {
   "cell_type": "code",
   "execution_count": 18,
   "metadata": {},
   "outputs": [
    {
     "data": {
      "text/plain": [
       "[]"
      ]
     },
     "execution_count": 18,
     "metadata": {},
     "output_type": "execute_result"
    }
   ],
   "source": [
    "l = []\n",
    "l"
   ]
  },
  {
   "cell_type": "markdown",
   "metadata": {},
   "source": [
    "### ¿Qué podemos hacer?"
   ]
  },
  {
   "cell_type": "code",
   "execution_count": 14,
   "metadata": {},
   "outputs": [],
   "source": [
    "ll = ['1', '2']"
   ]
  },
  {
   "cell_type": "code",
   "execution_count": 19,
   "metadata": {},
   "outputs": [
    {
     "name": "stdout",
     "output_type": "stream",
     "text": [
      "[0, 'hola', ['1', '2'], [6, 7, 8, '9', 'diez']]\n"
     ]
    }
   ],
   "source": [
    "# Para rellenar un lista se puede usar el siguiente método para listas:\n",
    "l.append(0)\n",
    "l.append('hola')\n",
    "l.append(list('12'))\n",
    "l.append([6, 7, 8, '9', 'diez'])\n",
    "\n",
    "print(l)\n",
    "# con el método append estamos añadiendo a la posición final de la lista el elemento que queremos"
   ]
  },
  {
   "cell_type": "markdown",
   "metadata": {},
   "source": [
    "Como podemos ver no hay restricción en lo que se refiere al tipo de dato que contiene una lista."
   ]
  },
  {
   "cell_type": "markdown",
   "metadata": {},
   "source": [
    "Podemos además indexar valores de una lista dadas sus posiciones:"
   ]
  },
  {
   "cell_type": "code",
   "execution_count": 23,
   "metadata": {},
   "outputs": [
    {
     "name": "stdout",
     "output_type": "stream",
     "text": [
      "l[0]= 0 \n",
      " l[0:2]= [0, 'hola'] \n",
      " l[4:]= ['hola', ['1', '2'], [6, 7, 8, '9', 'diez']] \n",
      " l[-2:]= [['1', '2'], [6, 7, 8, '9', 'diez']] \n",
      " l[-1]= [6, 7, 8, '9', 'diez']\n"
     ]
    }
   ],
   "source": [
    "print('l[0]=', l[0], '\\n', 'l[0:2]=', l[0:2], '\\n', 'l[4:]=', l[1:], '\\n', 'l[-2:]=', l[-2:], '\\n', 'l[-1]=', l[-1])"
   ]
  },
  {
   "cell_type": "markdown",
   "metadata": {},
   "source": [
    "Podemos además calcular el número de elementos que tiene una lista de manera directa:"
   ]
  },
  {
   "cell_type": "code",
   "execution_count": 24,
   "metadata": {},
   "outputs": [
    {
     "name": "stdout",
     "output_type": "stream",
     "text": [
      "La lista l tiene 4 elementos\n"
     ]
    }
   ],
   "source": [
    "print(f'La lista l tiene {len(l)} elementos')"
   ]
  },
  {
   "cell_type": "markdown",
   "metadata": {},
   "source": [
    "Supongamos una lista de números donde cada elemento es la probabilidad de sacar un número de un dado:"
   ]
  },
  {
   "cell_type": "code",
   "execution_count": 25,
   "metadata": {},
   "outputs": [],
   "source": [
    "p_d = [1/6] * 6"
   ]
  },
  {
   "cell_type": "code",
   "execution_count": 26,
   "metadata": {},
   "outputs": [
    {
     "data": {
      "text/plain": [
       "[0.16666666666666666,\n",
       " 0.16666666666666666,\n",
       " 0.16666666666666666,\n",
       " 0.16666666666666666,\n",
       " 0.16666666666666666,\n",
       " 0.16666666666666666]"
      ]
     },
     "execution_count": 26,
     "metadata": {},
     "output_type": "execute_result"
    }
   ],
   "source": [
    "p_d"
   ]
  },
  {
   "cell_type": "code",
   "execution_count": 28,
   "metadata": {},
   "outputs": [],
   "source": [
    "ll = ['hola', ' ', 'mundos']"
   ]
  },
  {
   "cell_type": "code",
   "execution_count": 30,
   "metadata": {},
   "outputs": [
    {
     "name": "stdout",
     "output_type": "stream",
     "text": [
      "hola   mundos\n"
     ]
    }
   ],
   "source": [
    "print(ll[0], ll[1], ll[2])"
   ]
  },
  {
   "cell_type": "markdown",
   "metadata": {},
   "source": [
    "Entonces para comprobar que la suma de las probabilidades es la unidad, podemos hacer:"
   ]
  },
  {
   "cell_type": "code",
   "execution_count": 31,
   "metadata": {},
   "outputs": [
    {
     "data": {
      "text/plain": [
       "0.9999999999999999"
      ]
     },
     "execution_count": 31,
     "metadata": {},
     "output_type": "execute_result"
    }
   ],
   "source": [
    "sum(p_d)"
   ]
  },
  {
   "cell_type": "markdown",
   "metadata": {},
   "source": [
    "### Precisión decimal\n",
    "Una cosa a tener en cuenta es la precisión decimal, estamos tratando con ordenadores que no dejan de tener un espacio en memoria finito. Pongamos un ejemplo:"
   ]
  },
  {
   "cell_type": "code",
   "execution_count": 34,
   "metadata": {},
   "outputs": [
    {
     "data": {
      "text/plain": [
       "False"
      ]
     },
     "execution_count": 34,
     "metadata": {},
     "output_type": "execute_result"
    }
   ],
   "source": [
    "0.1 + 0.2 == 0.3"
   ]
  },
  {
   "cell_type": "markdown",
   "metadata": {},
   "source": [
    "No es un comportamiento único de python, es debido a como guarda la información python. Si pintamos los números con mayor precisión veremos lo que pasa:\n"
   ]
  },
  {
   "cell_type": "code",
   "execution_count": 35,
   "metadata": {},
   "outputs": [
    {
     "name": "stdout",
     "output_type": "stream",
     "text": [
      "0.1 = 0.10000000000000001\n",
      "0.2 = 0.20000000000000001\n",
      "0.3 = 0.29999999999999999\n"
     ]
    }
   ],
   "source": [
    "print(\"0.1 = {0:.17f}\".format(0.1))\n",
    "print(\"0.2 = {0:.17f}\".format(0.2))\n",
    "print(\"0.3 = {0:.17f}\".format(0.3))"
   ]
  },
  {
   "cell_type": "markdown",
   "metadata": {},
   "source": [
    "We're accustomed to thinking of numbers in decimal (base-10) notation, so that each fraction must be expressed as a sum of powers of 10:\n",
    "$$\n",
    "1 /8 = 1\\cdot 10^{-1} + 2\\cdot 10^{-2} + 5\\cdot 10^{-3}\n",
    "$$\n",
    "In the familiar base-10 representation, we represent this in the familiar decimal expression: $0.125$.\n",
    "\n",
    "Computers usually store values in binary notation, so that each number is expressed as a sum of powers of 2:\n",
    "$$\n",
    "1/8 = 0\\cdot 2^{-1} + 0\\cdot 2^{-2} + 1\\cdot 2^{-3}\n",
    "$$\n",
    "In a base-2 representation, we can write this $0.001_2$, where the subscript 2 indicates binary notation.\n",
    "The value $0.125 = 0.001_2$ happens to be one number which both binary and decimal notation can represent in a finite number of digits.\n",
    "\n",
    "In the familiar base-10 representation of numbers, you are probably familiar with numbers that can't be expressed in a finite number of digits.\n",
    "For example, dividing $1$ by $3$ gives, in standard decimal notation:\n",
    "$$\n",
    "1 / 3 = 0.333333333\\cdots\n",
    "$$\n",
    "The 3s go on forever: that is, to truly represent this quotient, the number of required digits is infinite!\n",
    "\n",
    "Similarly, there are numbers for which binary representations require an infinite number of digits.\n",
    "For example:\n",
    "$$\n",
    "1 / 10 = 0.00011001100110011\\cdots_2\n",
    "$$\n",
    "Just as decimal notation requires an infinite number of digits to perfectly represent $1/3$, binary notation requires an infinite number of digits to represent $1/10$.\n",
    "Python internally truncates these representations at 52 bits beyond the first nonzero bit on most systems.\n",
    "\n",
    "This rounding error for floating-point values is a necessary evil of working with floating-point numbers.\n",
    "The best way to deal with it is to always keep in mind that floating-point arithmetic is approximate, and *never* rely on exact equality tests with floating-point values."
   ]
  },
  {
   "cell_type": "markdown",
   "metadata": {},
   "source": [
    "**Ejercicio 4:** Calcula la media de un vector numérico"
   ]
  },
  {
   "cell_type": "markdown",
   "metadata": {},
   "source": [
    "ret = sum(l) / len(l)"
   ]
  },
  {
   "cell_type": "code",
   "execution_count": 39,
   "metadata": {},
   "outputs": [
    {
     "data": {
      "text/plain": [
       "3.5"
      ]
     },
     "execution_count": 39,
     "metadata": {},
     "output_type": "execute_result"
    }
   ],
   "source": [
    "round(3.456, 1)"
   ]
  },
  {
   "cell_type": "code",
   "execution_count": 36,
   "metadata": {},
   "outputs": [],
   "source": [
    "def media_vector(l):\n",
    "    ret = sum(l) / len(l)\n",
    "    return ret\n",
    "assert media_vector([1, 2, 3]) == 2"
   ]
  },
  {
   "cell_type": "markdown",
   "metadata": {},
   "source": [
    "Tambien podemos calcular la longitud de una cadena de caracteres además de indexar caracteres:"
   ]
  },
  {
   "cell_type": "code",
   "execution_count": 37,
   "metadata": {},
   "outputs": [
    {
     "data": {
      "text/plain": [
       "169635.925"
      ]
     },
     "execution_count": 37,
     "metadata": {},
     "output_type": "execute_result"
    }
   ],
   "source": [
    "media_vector([1.2, 300, 678238, 4.5])"
   ]
  },
  {
   "cell_type": "code",
   "execution_count": 40,
   "metadata": {},
   "outputs": [
    {
     "data": {
      "text/plain": [
       "(11, 'Hola', 'Mundo!')"
      ]
     },
     "execution_count": 40,
     "metadata": {},
     "output_type": "execute_result"
    }
   ],
   "source": [
    "x = 'Hola Mundo!'\n",
    "len(x), x[: 4], x[-6:]"
   ]
  },
  {
   "cell_type": "markdown",
   "metadata": {},
   "source": [
    "Podemos crear listas de números enteros consecutivos:"
   ]
  },
  {
   "cell_type": "code",
   "execution_count": 43,
   "metadata": {},
   "outputs": [
    {
     "data": {
      "text/plain": [
       "[0, 1, 2, 3, 4, 5, 6, 7, 8, 9, 10]"
      ]
     },
     "execution_count": 43,
     "metadata": {},
     "output_type": "execute_result"
    }
   ],
   "source": [
    "# Crea una lista con 10 elementos.\n",
    "x = range(11)\n",
    "type(x)\n",
    "list(x)"
   ]
  },
  {
   "cell_type": "code",
   "execution_count": 42,
   "metadata": {},
   "outputs": [
    {
     "data": {
      "text/plain": [
       "[0, 1, 2, 3, 4, 5, 6, 7, 8, 9]"
      ]
     },
     "execution_count": 42,
     "metadata": {},
     "output_type": "execute_result"
    }
   ],
   "source": [
    "list(x)"
   ]
  },
  {
   "cell_type": "code",
   "execution_count": 44,
   "metadata": {},
   "outputs": [
    {
     "data": {
      "text/plain": [
       "[11, 12, 13, 14, 15, 16]"
      ]
     },
     "execution_count": 44,
     "metadata": {},
     "output_type": "execute_result"
    }
   ],
   "source": [
    "x = list(range(11, 17))\n",
    "x"
   ]
  },
  {
   "cell_type": "code",
   "execution_count": 45,
   "metadata": {},
   "outputs": [
    {
     "data": {
      "text/plain": [
       "[10, 12, 14, 16, 18]"
      ]
     },
     "execution_count": 45,
     "metadata": {},
     "output_type": "execute_result"
    }
   ],
   "source": [
    "x = list(range(10, 20, 2))\n",
    "x"
   ]
  },
  {
   "cell_type": "code",
   "execution_count": 46,
   "metadata": {},
   "outputs": [
    {
     "data": {
      "text/plain": [
       "[30, 27, 24, 21, 18, 15, 12, 9, 6]"
      ]
     },
     "execution_count": 46,
     "metadata": {},
     "output_type": "execute_result"
    }
   ],
   "source": [
    "x = list(range(30, 3, -3))\n",
    "x"
   ]
  },
  {
   "cell_type": "code",
   "execution_count": 47,
   "metadata": {},
   "outputs": [
    {
     "data": {
      "text/plain": [
       "[1, 2, 3, 4]"
      ]
     },
     "execution_count": 47,
     "metadata": {},
     "output_type": "execute_result"
    }
   ],
   "source": [
    "[1, 2] + [3, 4]\n",
    "# Además podemos hacer las operaciones rápidas."
   ]
  },
  {
   "cell_type": "code",
   "execution_count": 48,
   "metadata": {},
   "outputs": [
    {
     "data": {
      "text/plain": [
       "[1, 2, 3, 4, 5, 6, 5, 5]"
      ]
     },
     "execution_count": 48,
     "metadata": {},
     "output_type": "execute_result"
    }
   ],
   "source": [
    "[1, 2, 3, 4, 5, 6, 5, 5]"
   ]
  },
  {
   "cell_type": "markdown",
   "metadata": {},
   "source": [
    "Uniendo operadores lógicos, podemos comprobar si un valor está en una lista:"
   ]
  },
  {
   "cell_type": "code",
   "execution_count": 50,
   "metadata": {},
   "outputs": [
    {
     "name": "stdout",
     "output_type": "stream",
     "text": [
      "El número 40 no está en la list\n"
     ]
    }
   ],
   "source": [
    "x = 40\n",
    "l = [1, 2, 3, 4]\n",
    "\n",
    "if x in l:\n",
    "    print(f'El número {x} está en la lista')\n",
    "else:\n",
    "    print(f'El número {x} no está en la list')"
   ]
  },
  {
   "cell_type": "markdown",
   "metadata": {},
   "source": [
    "Dado que consideramos cadenas de texto como listas podemos tambien ver si una cadena está dentro de otra:"
   ]
  },
  {
   "cell_type": "code",
   "execution_count": 51,
   "metadata": {},
   "outputs": [
    {
     "name": "stdout",
     "output_type": "stream",
     "text": [
      "Se encuentra\n"
     ]
    }
   ],
   "source": [
    "text = 'Hola Mundo'\n",
    "if 'Mundo' in text:\n",
    "    print('Se encuentra')"
   ]
  },
  {
   "cell_type": "markdown",
   "metadata": {},
   "source": [
    "Las listas además no son inmutables, esto es que puedes cambiar valores preexistentes:"
   ]
  },
  {
   "cell_type": "code",
   "execution_count": 52,
   "metadata": {},
   "outputs": [
    {
     "name": "stdout",
     "output_type": "stream",
     "text": [
      "[1, 2, 3, 4, 5]\n",
      "[10, 2, 3, 4, 5]\n"
     ]
    }
   ],
   "source": [
    "my_list = [1, 2, 3, 4, 5]\n",
    "print(my_list)\n",
    "my_list[0] = my_list[0] * 10\n",
    "print(my_list)"
   ]
  },
  {
   "cell_type": "code",
   "execution_count": 53,
   "metadata": {},
   "outputs": [
    {
     "name": "stdout",
     "output_type": "stream",
     "text": [
      "['Pau', 'Marc', 'Sergio R', 'Navarro', 'Llull', 'Ricky']\n",
      "['Pau', 'Marc', 'Sergio R', 'Llull', 'Ricky']\n",
      "['Pau', 'Marc', 'Sergio R', 'Llull']\n",
      "Ricky\n"
     ]
    }
   ],
   "source": [
    "# Podemos insertar un valor en una posición determinada\n",
    "my_list = ['Pau', 'Marc', 'Navarro', 'Llull', 'Ricky']\n",
    "my_list.insert(2, 'Sergio R')\n",
    "print(my_list)\n",
    "# Podemos luego eliminar una posición de una lista\n",
    "del my_list[3]\n",
    "print(my_list)\n",
    "# Podemos guardarnos el valor eliminado\n",
    "dropped = my_list.pop(4)\n",
    "print(my_list)\n",
    "print(dropped)"
   ]
  },
  {
   "cell_type": "code",
   "execution_count": 55,
   "metadata": {},
   "outputs": [],
   "source": [
    "banquillo = list()\n",
    "banquillo.append(my_list.pop(2))"
   ]
  },
  {
   "cell_type": "code",
   "execution_count": 56,
   "metadata": {},
   "outputs": [
    {
     "data": {
      "text/plain": [
       "['Sergio R']"
      ]
     },
     "execution_count": 56,
     "metadata": {},
     "output_type": "execute_result"
    }
   ],
   "source": [
    "banquillo"
   ]
  },
  {
   "cell_type": "code",
   "execution_count": 57,
   "metadata": {},
   "outputs": [
    {
     "name": "stdin",
     "output_type": "stream",
     "text": [
      "Numero 1 1\n",
      "Numero 2 2\n",
      "Numero 3 3\n"
     ]
    },
    {
     "name": "stdout",
     "output_type": "stream",
     "text": [
      "[1, 2, 3]\n"
     ]
    }
   ],
   "source": [
    "x1 = int(input('Numero 1'))\n",
    "x2 = int(input('Numero 2'))\n",
    "x3 = int(input('Numero 3'))\n",
    "\n",
    "l = list()\n",
    "\n",
    "l.append(x1)\n",
    "l.append(x2)\n",
    "l.append(x3)\n",
    "print(l)"
   ]
  },
  {
   "cell_type": "code",
   "execution_count": 58,
   "metadata": {},
   "outputs": [
    {
     "name": "stdout",
     "output_type": "stream",
     "text": [
      "[1, 2, 3]\n"
     ]
    }
   ],
   "source": [
    "x1 = 1\n",
    "x2 = 2\n",
    "x3 = 3\n",
    "\n",
    "l = [x1, x2, x3]\n",
    "print(l)"
   ]
  },
  {
   "cell_type": "markdown",
   "metadata": {},
   "source": [
    "**Ejercicio 5:** Programa un sistema que meta 3 números en una lista. Después, imprime la lista."
   ]
  },
  {
   "cell_type": "markdown",
   "metadata": {},
   "source": [
    "**Ejercicio 6:** Implementa un programa que tenga como input una posición en la lista, y elimine el elemento en esa posición. Si la posición no existe en la lista (es menor que cero o mayor que la longitud), entonces imprime un mensaje indicando que ha habido un error."
   ]
  },
  {
   "cell_type": "code",
   "execution_count": 64,
   "metadata": {},
   "outputs": [
    {
     "name": "stdout",
     "output_type": "stream",
     "text": [
      "[2, 5, 6, 'hola', [45]]\n"
     ]
    }
   ],
   "source": [
    "pos = 1\n",
    "list_ = [2, 4, 5, 6, 'hola', [45]]\n",
    "if not len(list_) <= pos:\n",
    "    del list_[pos]\n",
    "    print(list_)\n",
    "else:\n",
    "    print(f'No existe el elemento {pos} de la lista')"
   ]
  },
  {
   "cell_type": "code",
   "execution_count": 66,
   "metadata": {},
   "outputs": [
    {
     "data": {
      "text/plain": [
       "[1, 2, 1, 23]"
      ]
     },
     "execution_count": 66,
     "metadata": {},
     "output_type": "execute_result"
    }
   ],
   "source": [
    "l = [1, 2]\n",
    "l.extend([1, 23])\n",
    "l.sort(reverse=True)"
   ]
  },
  {
   "cell_type": "markdown",
   "metadata": {},
   "source": [
    "**Ejercicio 7:** Implementa un algoritmo en el que dada una lista desordenada de números, te devuelva la misma lista ordenada decrecientemente. (Pista: es un método de las listas --> una sola línea de código es la implementación)"
   ]
  },
  {
   "cell_type": "code",
   "execution_count": 29,
   "metadata": {},
   "outputs": [
    {
     "data": {
      "text/plain": [
       "[57, 9, 7, 4, 3, 2, 0]"
      ]
     },
     "execution_count": 29,
     "metadata": {},
     "output_type": "execute_result"
    }
   ],
   "source": [
    "l = [2, 7,3, 4, 57, 9, 0]\n",
    "l.sort(reverse=True)\n",
    "l"
   ]
  },
  {
   "cell_type": "markdown",
   "metadata": {},
   "source": [
    "## Sets"
   ]
  },
  {
   "cell_type": "code",
   "execution_count": 67,
   "metadata": {},
   "outputs": [
    {
     "data": {
      "text/plain": [
       "[2, 2, 1]"
      ]
     },
     "execution_count": 67,
     "metadata": {},
     "output_type": "execute_result"
    }
   ],
   "source": [
    "l = [2, 2, 1]\n",
    "l"
   ]
  },
  {
   "cell_type": "code",
   "execution_count": 68,
   "metadata": {},
   "outputs": [
    {
     "data": {
      "text/plain": [
       "({1, 2}, set)"
      ]
     },
     "execution_count": 68,
     "metadata": {},
     "output_type": "execute_result"
    }
   ],
   "source": [
    "set(l), type(set(l))"
   ]
  },
  {
   "cell_type": "code",
   "execution_count": 69,
   "metadata": {},
   "outputs": [],
   "source": [
    "s = set(l)"
   ]
  },
  {
   "cell_type": "code",
   "execution_count": 70,
   "metadata": {},
   "outputs": [
    {
     "ename": "TypeError",
     "evalue": "'set' object is not subscriptable",
     "output_type": "error",
     "traceback": [
      "\u001b[0;31m---------------------------------------------------------------------------\u001b[0m",
      "\u001b[0;31mTypeError\u001b[0m                                 Traceback (most recent call last)",
      "\u001b[0;32m<ipython-input-70-f8bb2b116405>\u001b[0m in \u001b[0;36m<module>\u001b[0;34m\u001b[0m\n\u001b[0;32m----> 1\u001b[0;31m \u001b[0ms\u001b[0m\u001b[0;34m[\u001b[0m\u001b[0;36m1\u001b[0m\u001b[0;34m]\u001b[0m\u001b[0;34m\u001b[0m\u001b[0;34m\u001b[0m\u001b[0m\n\u001b[0m",
      "\u001b[0;31mTypeError\u001b[0m: 'set' object is not subscriptable"
     ]
    }
   ],
   "source": [
    "s[1]"
   ]
  },
  {
   "cell_type": "markdown",
   "metadata": {},
   "source": [
    "Los sets son como las listas solo que están ordenadas y no permiten elementos iguales además no se pueden cambiar sus valores dado que son inmutables"
   ]
  },
  {
   "cell_type": "code",
   "execution_count": 71,
   "metadata": {},
   "outputs": [],
   "source": [
    "text = \"\"\"\n",
    "En un lugar de la Mancha, de cuyo nombre no quiero acordarme, no ha mucho tiempo que vivía un hidalgo de los de lanza en astillero, adarga antigua, rocín flaco y galgo corredor. Una olla de algo más vaca que carnero, salpicón las más noches, duelos y quebrantos los sábados, lentejas los viernes, algún palomino de añadidura los domingos, consumían las tres partes de su hacienda. El resto della concluían sayo de velarte, calzas de velludo para las fiestas con sus pantuflos de lo mismo, los días de entre semana se honraba con su vellori de lo más fino. Tenía en su casa una ama que pasaba de los cuarenta, y una sobrina que no llegaba a los veinte, y un mozo de campo y plaza, que así ensillaba el rocín como tomaba la podadera. Frisaba la edad de nuestro hidalgo con los cincuenta años, era de complexión recia, seco de carnes, enjuto de rostro; gran madrugador y amigo de la caza. Quieren decir que tenía el sobrenombre de Quijada o Quesada (que en esto hay alguna diferencia en los autores que deste caso escriben), aunque por conjeturas verosímiles se deja entender que se llama Quijana; pero esto importa poco a nuestro cuento; basta que en la narración dél no se salga un punto de la verdad.\n",
    "\"\"\""
   ]
  },
  {
   "cell_type": "markdown",
   "metadata": {},
   "source": [
    "**Ejercicio 8:** Crea un algoritmo que dado el texto anterior me devuelva una lista con todas las palabras que aparecen. Reemplaza los signos de puntuación (. . , ;) por nada"
   ]
  },
  {
   "cell_type": "code",
   "execution_count": 76,
   "metadata": {},
   "outputs": [
    {
     "data": {
      "text/plain": [
       "{'a',\n",
       " 'acordarme',\n",
       " 'adarga',\n",
       " 'algo',\n",
       " 'alguna',\n",
       " 'algún',\n",
       " 'ama',\n",
       " 'amigo',\n",
       " 'antigua',\n",
       " 'astillero',\n",
       " 'así',\n",
       " 'aunque',\n",
       " 'autores',\n",
       " 'añadidura',\n",
       " 'años',\n",
       " 'basta',\n",
       " 'calzas',\n",
       " 'campo',\n",
       " 'carnero',\n",
       " 'carnes',\n",
       " 'casa',\n",
       " 'caso',\n",
       " 'caza',\n",
       " 'cincuenta',\n",
       " 'como',\n",
       " 'complexión',\n",
       " 'con',\n",
       " 'concluían',\n",
       " 'conjeturas',\n",
       " 'consumían',\n",
       " 'corredor',\n",
       " 'cuarenta',\n",
       " 'cuento',\n",
       " 'cuyo',\n",
       " 'de',\n",
       " 'decir',\n",
       " 'deja',\n",
       " 'della',\n",
       " 'deste',\n",
       " 'diferencia',\n",
       " 'domingos',\n",
       " 'duelos',\n",
       " 'dél',\n",
       " 'días',\n",
       " 'edad',\n",
       " 'el',\n",
       " 'en',\n",
       " 'enjuto',\n",
       " 'ensillaba',\n",
       " 'entender',\n",
       " 'entre',\n",
       " 'era',\n",
       " 'escriben',\n",
       " 'esto',\n",
       " 'fiestas',\n",
       " 'fino',\n",
       " 'flaco',\n",
       " 'frisaba',\n",
       " 'galgo',\n",
       " 'gran',\n",
       " 'ha',\n",
       " 'hacienda',\n",
       " 'hay',\n",
       " 'hidalgo',\n",
       " 'honraba',\n",
       " 'importa',\n",
       " 'la',\n",
       " 'lanza',\n",
       " 'las',\n",
       " 'lentejas',\n",
       " 'llama',\n",
       " 'llegaba',\n",
       " 'lo',\n",
       " 'los',\n",
       " 'lugar',\n",
       " 'madrugador',\n",
       " 'mancha',\n",
       " 'mismo',\n",
       " 'mozo',\n",
       " 'mucho',\n",
       " 'más',\n",
       " 'narración',\n",
       " 'no',\n",
       " 'noches',\n",
       " 'nombre',\n",
       " 'nuestro',\n",
       " 'o',\n",
       " 'olla',\n",
       " 'palomino',\n",
       " 'pantuflos',\n",
       " 'para',\n",
       " 'partes',\n",
       " 'pasaba',\n",
       " 'pero',\n",
       " 'plaza',\n",
       " 'poco',\n",
       " 'podadera',\n",
       " 'por',\n",
       " 'punto',\n",
       " 'que',\n",
       " 'quebrantos',\n",
       " 'quesada',\n",
       " 'quieren',\n",
       " 'quiero',\n",
       " 'quijada',\n",
       " 'quijana',\n",
       " 'recia',\n",
       " 'resto',\n",
       " 'rocín',\n",
       " 'rostro',\n",
       " 'salga',\n",
       " 'salpicón',\n",
       " 'sayo',\n",
       " 'se',\n",
       " 'seco',\n",
       " 'semana',\n",
       " 'sobrenombre',\n",
       " 'sobrina',\n",
       " 'su',\n",
       " 'sus',\n",
       " 'sábados',\n",
       " 'tenía',\n",
       " 'tiempo',\n",
       " 'tomaba',\n",
       " 'tres',\n",
       " 'un',\n",
       " 'una',\n",
       " 'vaca',\n",
       " 'veinte',\n",
       " 'velarte',\n",
       " 'vellori',\n",
       " 'velludo',\n",
       " 'verdad',\n",
       " 'verosímiles',\n",
       " 'viernes',\n",
       " 'vivía',\n",
       " 'y'}"
      ]
     },
     "execution_count": 76,
     "metadata": {},
     "output_type": "execute_result"
    }
   ],
   "source": [
    "text2 = text.lower().replace(',', '').replace(';', '').replace('.', '').replace('\\n', '').replace('(', '').replace(')', '')\n",
    "l = text2.split(' ')\n",
    "set(l)"
   ]
  },
  {
   "cell_type": "markdown",
   "metadata": {},
   "source": [
    "# Tuplas"
   ]
  },
  {
   "cell_type": "markdown",
   "metadata": {},
   "source": [
    "Hay dos maneras de inicializar una tupla"
   ]
  },
  {
   "cell_type": "code",
   "execution_count": 13,
   "metadata": {},
   "outputs": [
    {
     "data": {
      "text/plain": [
       "()"
      ]
     },
     "execution_count": 13,
     "metadata": {},
     "output_type": "execute_result"
    }
   ],
   "source": [
    "t = tuple()\n",
    "t"
   ]
  },
  {
   "cell_type": "code",
   "execution_count": 14,
   "metadata": {},
   "outputs": [
    {
     "data": {
      "text/plain": [
       "()"
      ]
     },
     "execution_count": 14,
     "metadata": {},
     "output_type": "execute_result"
    }
   ],
   "source": [
    "t = ()\n",
    "t"
   ]
  },
  {
   "cell_type": "markdown",
   "metadata": {},
   "source": [
    "Tradicionalmente la tupla la componían dos elementos aunque ahora una tupla puede ser de N elementos"
   ]
  },
  {
   "cell_type": "code",
   "execution_count": 21,
   "metadata": {},
   "outputs": [
    {
     "data": {
      "text/plain": [
       "(1, 2, 3, 4, 'hola')"
      ]
     },
     "execution_count": 21,
     "metadata": {},
     "output_type": "execute_result"
    }
   ],
   "source": [
    "t = (1, 2, 3, 4, 'hola')\n",
    "t"
   ]
  },
  {
   "cell_type": "code",
   "execution_count": 22,
   "metadata": {},
   "outputs": [
    {
     "data": {
      "text/plain": [
       "1"
      ]
     },
     "execution_count": 22,
     "metadata": {},
     "output_type": "execute_result"
    }
   ],
   "source": [
    "# Podemos acceder a un indice de la tupla\n",
    "t[0]"
   ]
  },
  {
   "cell_type": "code",
   "execution_count": 23,
   "metadata": {},
   "outputs": [
    {
     "data": {
      "text/plain": [
       "(2, 3)"
      ]
     },
     "execution_count": 23,
     "metadata": {},
     "output_type": "execute_result"
    }
   ],
   "source": [
    "# Podemos hacer slicing sobre tuplas\n",
    "t[1:-2]"
   ]
  },
  {
   "cell_type": "code",
   "execution_count": 24,
   "metadata": {},
   "outputs": [
    {
     "ename": "TypeError",
     "evalue": "'tuple' object does not support item assignment",
     "output_type": "error",
     "traceback": [
      "\u001b[0;31m---------------------------------------------------------------------------\u001b[0m",
      "\u001b[0;31mTypeError\u001b[0m                                 Traceback (most recent call last)",
      "\u001b[0;32m<ipython-input-24-dbc85f8b0da5>\u001b[0m in \u001b[0;36m<module>\u001b[0;34m\u001b[0m\n\u001b[1;32m      1\u001b[0m \u001b[0;31m# Pero no podemos cambiar el valor de los elementos de las tuplas\u001b[0m\u001b[0;34m\u001b[0m\u001b[0;34m\u001b[0m\u001b[0;34m\u001b[0m\u001b[0m\n\u001b[0;32m----> 2\u001b[0;31m \u001b[0mt\u001b[0m\u001b[0;34m[\u001b[0m\u001b[0;36m1\u001b[0m\u001b[0;34m]\u001b[0m \u001b[0;34m=\u001b[0m \u001b[0;36m2\u001b[0m\u001b[0;34m\u001b[0m\u001b[0;34m\u001b[0m\u001b[0m\n\u001b[0m",
      "\u001b[0;31mTypeError\u001b[0m: 'tuple' object does not support item assignment"
     ]
    }
   ],
   "source": [
    "# Pero no podemos cambiar el valor de los elementos de las tuplas\n",
    "t[1] = 2"
   ]
  },
  {
   "cell_type": "markdown",
   "metadata": {},
   "source": [
    "# Diccionarios"
   ]
  },
  {
   "cell_type": "code",
   "execution_count": 77,
   "metadata": {},
   "outputs": [
    {
     "data": {
      "text/plain": [
       "{}"
      ]
     },
     "execution_count": 77,
     "metadata": {},
     "output_type": "execute_result"
    }
   ],
   "source": [
    "d = {}\n",
    "d"
   ]
  },
  {
   "cell_type": "code",
   "execution_count": 78,
   "metadata": {},
   "outputs": [
    {
     "data": {
      "text/plain": [
       "{}"
      ]
     },
     "execution_count": 78,
     "metadata": {},
     "output_type": "execute_result"
    }
   ],
   "source": [
    "d = dict()\n",
    "d"
   ]
  },
  {
   "cell_type": "markdown",
   "metadata": {},
   "source": [
    "Los diccionarios son unas estructuras para organizar datos muy interesantes dado que se organizan modo clave: valor."
   ]
  },
  {
   "cell_type": "code",
   "execution_count": 79,
   "metadata": {},
   "outputs": [
    {
     "data": {
      "text/plain": [
       "{'vertebrados': ['delfin', 'ballena', 'homo sapiens'],\n",
       " 'invertebrados': ['cucaracha', 'mariposa']}"
      ]
     },
     "execution_count": 79,
     "metadata": {},
     "output_type": "execute_result"
    }
   ],
   "source": [
    "animales = {'vertebrados': ['delfin', 'ballena', 'homo sapiens'], 'invertebrados': ['cucaracha', 'mariposa']}\n",
    "animales"
   ]
  },
  {
   "cell_type": "code",
   "execution_count": 80,
   "metadata": {},
   "outputs": [],
   "source": [
    "animales['numeros'] = 1"
   ]
  },
  {
   "cell_type": "code",
   "execution_count": 81,
   "metadata": {},
   "outputs": [
    {
     "data": {
      "text/plain": [
       "{'vertebrados': ['delfin', 'ballena', 'homo sapiens'],\n",
       " 'invertebrados': ['cucaracha', 'mariposa'],\n",
       " 'numeros': 1}"
      ]
     },
     "execution_count": 81,
     "metadata": {},
     "output_type": "execute_result"
    }
   ],
   "source": [
    "animales"
   ]
  },
  {
   "cell_type": "code",
   "execution_count": 82,
   "metadata": {},
   "outputs": [
    {
     "name": "stdout",
     "output_type": "stream",
     "text": [
      "['delfin', 'ballena', 'homo sapiens']\n",
      "['cucaracha', 'mariposa']\n"
     ]
    }
   ],
   "source": [
    "# Hay dos formas de pedirle a un diccionario que te devuelva el valor dada una clave\n",
    "print(animales['vertebrados'])\n",
    "print(animales.get('invertebrados'))"
   ]
  },
  {
   "cell_type": "code",
   "execution_count": 83,
   "metadata": {},
   "outputs": [
    {
     "name": "stdout",
     "output_type": "stream",
     "text": [
      "None\n"
     ]
    },
    {
     "ename": "KeyError",
     "evalue": "'con-alas'",
     "output_type": "error",
     "traceback": [
      "\u001b[0;31m---------------------------------------------------------------------------\u001b[0m",
      "\u001b[0;31mKeyError\u001b[0m                                  Traceback (most recent call last)",
      "\u001b[0;32m<ipython-input-83-34db0b19887f>\u001b[0m in \u001b[0;36m<module>\u001b[0;34m\u001b[0m\n\u001b[1;32m      1\u001b[0m \u001b[0;31m# En el caso de la segunda manera, si la clave no estuviera en el diccionario nos devuelve un None. De la segunda manera falla el algoritmo\u001b[0m\u001b[0;34m\u001b[0m\u001b[0;34m\u001b[0m\u001b[0;34m\u001b[0m\u001b[0m\n\u001b[1;32m      2\u001b[0m \u001b[0mprint\u001b[0m\u001b[0;34m(\u001b[0m\u001b[0manimales\u001b[0m\u001b[0;34m.\u001b[0m\u001b[0mget\u001b[0m\u001b[0;34m(\u001b[0m\u001b[0;34m'con-alas'\u001b[0m\u001b[0;34m)\u001b[0m\u001b[0;34m)\u001b[0m\u001b[0;34m\u001b[0m\u001b[0;34m\u001b[0m\u001b[0m\n\u001b[0;32m----> 3\u001b[0;31m \u001b[0mprint\u001b[0m\u001b[0;34m(\u001b[0m\u001b[0manimales\u001b[0m\u001b[0;34m[\u001b[0m\u001b[0;34m'con-alas'\u001b[0m\u001b[0;34m]\u001b[0m\u001b[0;34m)\u001b[0m\u001b[0;34m\u001b[0m\u001b[0;34m\u001b[0m\u001b[0m\n\u001b[0m",
      "\u001b[0;31mKeyError\u001b[0m: 'con-alas'"
     ]
    }
   ],
   "source": [
    "# En el caso de la segunda manera, si la clave no estuviera en el diccionario nos devuelve un None. De la segunda manera falla el algoritmo\n",
    "print(animales.get('con-alas'))\n",
    "print(animales['con-alas'])"
   ]
  },
  {
   "cell_type": "code",
   "execution_count": 84,
   "metadata": {},
   "outputs": [
    {
     "name": "stdout",
     "output_type": "stream",
     "text": [
      "dict_keys(['vertebrados', 'invertebrados', 'numeros'])\n",
      "dict_values([['delfin', 'ballena', 'homo sapiens'], ['cucaracha', 'mariposa'], 1])\n"
     ]
    }
   ],
   "source": [
    "# Podemos ver todas las claves de un diccionario\n",
    "print(animales.keys())\n",
    "# Podemos ver todos los valores de un diccionario\n",
    "print(animales.values())"
   ]
  },
  {
   "cell_type": "code",
   "execution_count": 85,
   "metadata": {},
   "outputs": [
    {
     "data": {
      "text/plain": [
       "{1: 'Reyes', 2: 'Oda', 3: 'Micaela', 4: 'Rafael', 5: 'Alfonso'}"
      ]
     },
     "execution_count": 85,
     "metadata": {},
     "output_type": "execute_result"
    }
   ],
   "source": [
    "alumnos = {1: 'Reyes', 2: 'Oda', 3: 'Micaela', 4: 'Rafael', 5: 'Alfonso'}\n",
    "alumnos"
   ]
  },
  {
   "cell_type": "code",
   "execution_count": 86,
   "metadata": {},
   "outputs": [
    {
     "data": {
      "text/plain": [
       "{1: 'Reyes',\n",
       " 2: 'Oda',\n",
       " 3: 'Micaela',\n",
       " 4: 'Rafael',\n",
       " 5: 'Alfonso',\n",
       " 6: 'Nuevo alumno',\n",
       " 'clave': 'Nuevo alumno 2'}"
      ]
     },
     "execution_count": 86,
     "metadata": {},
     "output_type": "execute_result"
    }
   ],
   "source": [
    "# Si viniera un alumno nuevo podríamos añadirlo al diccionario de alumnos de la siguiente forma:\n",
    "alumnos[6] = 'Nuevo alumno'\n",
    "alumnos['clave'] = 'Nuevo alumno 2'\n",
    "alumnos"
   ]
  },
  {
   "cell_type": "code",
   "execution_count": 87,
   "metadata": {},
   "outputs": [
    {
     "data": {
      "text/plain": [
       "{}"
      ]
     },
     "execution_count": 87,
     "metadata": {},
     "output_type": "execute_result"
    }
   ],
   "source": [
    "d = {}\n",
    "d"
   ]
  },
  {
   "cell_type": "code",
   "execution_count": 88,
   "metadata": {},
   "outputs": [
    {
     "data": {
      "text/plain": [
       "{'uno': 1, 'dos': 2, 'tres': 3}"
      ]
     },
     "execution_count": 88,
     "metadata": {},
     "output_type": "execute_result"
    }
   ],
   "source": [
    "d['uno'] = 1\n",
    "d['dos'] = 2\n",
    "d['tres'] = 3\n",
    "d"
   ]
  },
  {
   "cell_type": "code",
   "execution_count": 89,
   "metadata": {},
   "outputs": [
    {
     "data": {
      "text/plain": [
       "{'lider_rojo': 'Pedro Sánchez', 'lider_morado': 'Pablo Iglesias'}"
      ]
     },
     "execution_count": 89,
     "metadata": {},
     "output_type": "execute_result"
    }
   ],
   "source": [
    "# Podemos combinar diccionarios accediendo a sus valores\n",
    "psoe = {'lider_rojo': 'Pedro Sánchez'}\n",
    "podemos = {'lider_morado': 'Pablo Iglesias'}\n",
    "nuevo_gobierno = {**psoe, **podemos}\n",
    "nuevo_gobierno"
   ]
  },
  {
   "cell_type": "code",
   "execution_count": 90,
   "metadata": {},
   "outputs": [],
   "source": [
    "total = {'Madrid': 4e6}\n",
    "andalucia = {'Andalucia': 8e6}\n",
    "total.update(andalucia)"
   ]
  },
  {
   "cell_type": "code",
   "execution_count": 91,
   "metadata": {},
   "outputs": [
    {
     "data": {
      "text/plain": [
       "{'Madrid': 4000000.0, 'Andalucia': 8000000.0}"
      ]
     },
     "execution_count": 91,
     "metadata": {},
     "output_type": "execute_result"
    }
   ],
   "source": [
    "total"
   ]
  },
  {
   "cell_type": "markdown",
   "metadata": {},
   "source": [
    "Una cualidad muy importante de los diccionarios es que las claves que guarda son únicas. Lo vemos con un ejemplo:"
   ]
  },
  {
   "cell_type": "code",
   "execution_count": 1,
   "metadata": {},
   "outputs": [
    {
     "data": {
      "text/plain": [
       "{'clave1': 'valor1', 'clave2': 'valor2'}"
      ]
     },
     "execution_count": 1,
     "metadata": {},
     "output_type": "execute_result"
    }
   ],
   "source": [
    "dictionary = {'clave1': 'valor1', 'clave2': 'valor2'}\n",
    "dictionary"
   ]
  },
  {
   "cell_type": "code",
   "execution_count": 3,
   "metadata": {},
   "outputs": [
    {
     "data": {
      "text/plain": [
       "{'clave1': 'nuevo_valor1', 'clave2': 'valor2'}"
      ]
     },
     "execution_count": 3,
     "metadata": {},
     "output_type": "execute_result"
    }
   ],
   "source": [
    "# Como podemos ver en este ejemplo se elimina el valor asociado a la clave anterior\n",
    "dictionary['clave1'] = 'nuevo_valor1'\n",
    "dictionary"
   ]
  },
  {
   "cell_type": "code",
   "execution_count": 5,
   "metadata": {},
   "outputs": [
    {
     "data": {
      "text/plain": [
       "{('pt-022020', '1'): '10', ('pt-022020', '2'): '6'}"
      ]
     },
     "execution_count": 5,
     "metadata": {},
     "output_type": "execute_result"
    }
   ],
   "source": [
    "# Otro ejemplo más:\n",
    "d = {('pt-022020', '1'): '10', ('pt-022020', '2'): '6'}\n",
    "d"
   ]
  },
  {
   "cell_type": "code",
   "execution_count": 6,
   "metadata": {},
   "outputs": [
    {
     "data": {
      "text/plain": [
       "{('pt-022020', '1'): '10', ('pt-022020', '2'): '7'}"
      ]
     },
     "execution_count": 6,
     "metadata": {},
     "output_type": "execute_result"
    }
   ],
   "source": [
    "d[('pt-022020', '2')] = '7'\n",
    "d"
   ]
  },
  {
   "cell_type": "markdown",
   "metadata": {},
   "source": [
    "# Bucles"
   ]
  },
  {
   "cell_type": "markdown",
   "metadata": {},
   "source": [
    "## While"
   ]
  },
  {
   "cell_type": "markdown",
   "metadata": {},
   "source": [
    "Mientras se cumpla una condición me vas a ejecutar el siguiente bloque de código"
   ]
  },
  {
   "cell_type": "code",
   "execution_count": 92,
   "metadata": {},
   "outputs": [
    {
     "name": "stdout",
     "output_type": "stream",
     "text": [
      "Suma uno a la variable count\n",
      "count_pre=0\n",
      "count_post=1\n",
      "Suma uno a la variable count\n",
      "count_pre=1\n",
      "count_post=2\n",
      "Suma uno a la variable count\n",
      "count_pre=2\n",
      "count_post=3\n",
      "Suma uno a la variable count\n",
      "count_pre=3\n",
      "count_post=4\n",
      "Suma uno a la variable count\n",
      "count_pre=4\n",
      "count_post=5\n"
     ]
    }
   ],
   "source": [
    "count = 0\n",
    "while count < 5:\n",
    "    print('Suma uno a la variable count')\n",
    "    print(f'count_pre={count}')\n",
    "    count += 1\n",
    "    print(f'count_post={count}')"
   ]
  },
  {
   "cell_type": "code",
   "execution_count": 6,
   "metadata": {},
   "outputs": [
    {
     "name": "stdout",
     "output_type": "stream",
     "text": [
      "1\n",
      "Es menor de 2\n"
     ]
    }
   ],
   "source": [
    "cond = True\n",
    "x = 0\n",
    "# while cond == True:\n",
    "while cond:\n",
    "    x += 1\n",
    "    if x >= 7:\n",
    "        # La cláusula break para el bucle\n",
    "        break\n",
    "    elif x >= 2:\n",
    "        # La clausula continue hace que no se \n",
    "        # ejecute más código y pase a la siguiente iteración\n",
    "        continue\n",
    "    else:\n",
    "        print(x)\n",
    "    print('Es menor de 2')"
   ]
  },
  {
   "cell_type": "code",
   "execution_count": 4,
   "metadata": {},
   "outputs": [],
   "source": [
    "cond = True\n",
    "x = 0\n",
    "# while cond == True: (esta línea es igual que poner la de abajo dado que el while\n",
    "# evalua a True)\n",
    "while cond:\n",
    "    x += 1\n",
    "    if x >= 7:\n",
    "        break\n",
    "    else: \n",
    "        pass"
   ]
  },
  {
   "cell_type": "code",
   "execution_count": 2,
   "metadata": {},
   "outputs": [],
   "source": [
    "cond = True\n",
    "x = 0\n",
    "while cond:\n",
    "    x += 1\n",
    "    if x >= 100:\n",
    "        cond = False\n",
    "    else:\n",
    "        # La cláusula pass hace nada (es como vale pues pasa por aqui pero no hagas nada)\n",
    "        pass"
   ]
  },
  {
   "cell_type": "markdown",
   "metadata": {},
   "source": [
    "**Ejercicio 9:** Crea un algoritmo que me devuelva en una lista los números impares menores o iguales a 100:"
   ]
  },
  {
   "cell_type": "code",
   "execution_count": 1,
   "metadata": {},
   "outputs": [
    {
     "name": "stdout",
     "output_type": "stream",
     "text": [
      "[1, 3, 5, 7, 9, 11, 13, 15, 17, 19, 21, 23, 25, 27, 29, 31, 33, 35, 37, 39, 41, 43, 45, 47, 49, 51, 53, 55, 57, 59, 61, 63, 65, 67, 69, 71, 73, 75, 77, 79, 81, 83, 85, 87, 89, 91, 93, 95, 97, 99]\n"
     ]
    }
   ],
   "source": [
    "# Forma 1 (no cuenta el 0 como número impar o par dado que lo primero que haces en la lógica\n",
    "# es sumar 1)\n",
    "x=0\n",
    "lista=list()\n",
    "while x < 100:\n",
    "    x+= 1\n",
    "    if x%2 !=0:\n",
    "        lista.append(x)\n",
    "    else:\n",
    "        pass\n",
    "print (lista)"
   ]
  },
  {
   "cell_type": "code",
   "execution_count": 7,
   "metadata": {},
   "outputs": [
    {
     "name": "stdout",
     "output_type": "stream",
     "text": [
      "[1, 3, 5, 7, 9, 11, 13, 15, 17, 19, 21, 23, 25, 27, 29, 31, 33, 35, 37, 39, 41, 43, 45, 47, 49, 51, 53, 55, 57, 59, 61, 63, 65, 67, 69, 71, 73, 75, 77, 79, 81, 83, 85, 87, 89, 91, 93, 95, 97, 99]\n"
     ]
    }
   ],
   "source": [
    "# Forma 2 (En este caso si que cuenta el 0 dado que el sumar uno se encuentra al final)\n",
    "count = 0\n",
    "l_impar = list()\n",
    "while count <= 100:\n",
    "    resto = count % 2\n",
    "    if resto == 1:\n",
    "        l_impar.append(count)\n",
    "    else:\n",
    "        pass\n",
    "    count += 1\n",
    "print(l_impar)"
   ]
  },
  {
   "cell_type": "code",
   "execution_count": null,
   "metadata": {},
   "outputs": [],
   "source": [
    "count = 0\n",
    "l_impar = list()\n",
    "while count <= 100:\n",
    "    # resto = count % 2\n",
    "    if count % 2 == 1:\n",
    "        l_impar.append(count)\n",
    "    elif count % 2 == 0:\n",
    "        pass\n",
    "    count += 1\n",
    "print(l_impar)\n",
    "# Esta es una manera lenta de ejecutar un algoritmo dado que calculamos el módulo de un valor\n",
    "# dos veces, por lo tanto realizamos dos veces la misma operación"
   ]
  },
  {
   "cell_type": "code",
   "execution_count": 1,
   "metadata": {},
   "outputs": [
    {
     "name": "stdout",
     "output_type": "stream",
     "text": [
      "[1, 3, 5, 7, 9, 11, 13, 15, 17, 19, 21, 23, 25, 27, 29, 31, 33, 35, 37, 39, 41, 43, 45, 47, 49, 51, 53, 55, 57, 59, 61, 63, 65, 67, 69, 71, 73, 75, 77, 79, 81, 83, 85, 87, 89, 91, 93, 95, 97, 99]\n"
     ]
    }
   ],
   "source": [
    "# Rápido\n",
    "count = 0\n",
    "l_impar = list()\n",
    "while count <= 100:\n",
    "    resto = count % 2\n",
    "    if resto == 1:\n",
    "        l_impar.append(count)\n",
    "    elif resto == 0:\n",
    "        pass\n",
    "    count += 1\n",
    "print(l_impar)\n",
    "# Esta es una manera rapida de ejecutar un algoritmo dado que calculamos el módulo de un valor\n",
    "# una vez, por lo tanto realizamos una sola vez la operación módulo"
   ]
  },
  {
   "cell_type": "code",
   "execution_count": 4,
   "metadata": {},
   "outputs": [],
   "source": [
    "# Para calcular el tiempo que tarda vamos a meterlo en dos funciones \n",
    "# y vamos a calcular el tiempo.\n",
    "def lento():\n",
    "    count = 0\n",
    "    l_impar = list()\n",
    "    while count <= 100:\n",
    "        # resto = count % 2\n",
    "        if count % 2 == 1:\n",
    "            l_impar.append(count)\n",
    "        elif count % 2 == 0:\n",
    "            pass\n",
    "        count += 1\n",
    "    return l_impar\n",
    "\n",
    "def rapido():\n",
    "    count = 0\n",
    "    l_impar = list()\n",
    "    while count <= 100:\n",
    "        resto = count % 2\n",
    "        if resto == 1:\n",
    "            l_impar.append(count)\n",
    "        elif resto == 0:\n",
    "            pass\n",
    "        count += 1\n",
    "    return l_impar"
   ]
  },
  {
   "cell_type": "code",
   "execution_count": 7,
   "metadata": {},
   "outputs": [
    {
     "name": "stdout",
     "output_type": "stream",
     "text": [
      "14 µs ± 794 ns per loop (mean ± std. dev. of 7 runs, 100000 loops each)\n"
     ]
    }
   ],
   "source": [
    "# La primera parte de la expresión de abajo se llaman comandos mágico y ese sirve para calcular\n",
    "# el tiempo de ejecución\n",
    "%timeit rapido()"
   ]
  },
  {
   "cell_type": "code",
   "execution_count": 8,
   "metadata": {},
   "outputs": [
    {
     "name": "stdout",
     "output_type": "stream",
     "text": [
      "15.5 µs ± 1.59 µs per loop (mean ± std. dev. of 7 runs, 100000 loops each)\n"
     ]
    }
   ],
   "source": [
    "%timeit lento()"
   ]
  },
  {
   "cell_type": "markdown",
   "metadata": {},
   "source": [
    "Podemos ver más información sobre comandos mágicos [blog](https://www.analyticslane.com/2019/04/12/seis-comandos-magicos-de-jupyter-notebooks/) o [pagina oficial](https://ipython.readthedocs.io/en/stable/interactive/magics.html)"
   ]
  },
  {
   "cell_type": "markdown",
   "metadata": {},
   "source": [
    "# Bucle For"
   ]
  },
  {
   "cell_type": "code",
   "execution_count": 10,
   "metadata": {},
   "outputs": [
    {
     "name": "stdout",
     "output_type": "stream",
     "text": [
      "a\n",
      "s\n",
      "f\n",
      "a\n",
      "s\n",
      "f\n",
      "d\n",
      "s\n",
      "d\n",
      "f\n"
     ]
    }
   ],
   "source": [
    "l = list('asfasfdsdf')\n",
    "for idx in range(0, len(l)):\n",
    "    print(l[idx])"
   ]
  },
  {
   "cell_type": "code",
   "execution_count": 12,
   "metadata": {},
   "outputs": [
    {
     "name": "stdout",
     "output_type": "stream",
     "text": [
      "0\n",
      "1\n",
      "2\n",
      "3\n",
      "4\n",
      "5\n",
      "6\n",
      "7\n",
      "8\n",
      "9\n"
     ]
    }
   ],
   "source": [
    "l = list(range(10))\n",
    "for elemento in l:\n",
    "    print(elemento)"
   ]
  },
  {
   "cell_type": "code",
   "execution_count": 14,
   "metadata": {},
   "outputs": [
    {
     "name": "stdout",
     "output_type": "stream",
     "text": [
      "1 Montaña\n",
      "2 Monte\n",
      "3 Llanura\n",
      "4 Playa\n"
     ]
    }
   ],
   "source": [
    "l = ['Montaña', 'Monte', 'Llanura', 'Playa']\n",
    "for index, value in enumerate(l, start=1):\n",
    "    print(index, value)"
   ]
  },
  {
   "cell_type": "markdown",
   "metadata": {},
   "source": [
    "**Ejercicio 10**: Crea una cuenta atrás que acabe en un explosión"
   ]
  },
  {
   "cell_type": "code",
   "execution_count": 9,
   "metadata": {},
   "outputs": [
    {
     "name": "stdout",
     "output_type": "stream",
     "text": [
      "5\n",
      "4\n",
      "3\n",
      "2\n",
      "1\n",
      "BUUUUUUM\n"
     ]
    }
   ],
   "source": [
    "count = 5\n",
    "while count:\n",
    "    print(count)\n",
    "    count -= 1\n",
    "if not count:\n",
    "    print('BUUUUUUM')"
   ]
  },
  {
   "cell_type": "markdown",
   "metadata": {},
   "source": [
    "Recordad que todos los números son True excepto el 0 que es False"
   ]
  },
  {
   "cell_type": "code",
   "execution_count": 16,
   "metadata": {},
   "outputs": [
    {
     "name": "stdout",
     "output_type": "stream",
     "text": [
      "['Casa', 'Chalet', 'Piso']\n",
      "['Ladrillo', 'Hormigón', 'Arcilla']\n"
     ]
    }
   ],
   "source": [
    "d = {1: 'Casa', 2: 'Chalet', 3: 'Piso', 4: 'Ladrillo', 5: 'Hormigón', 6: 'Arcilla'}\n",
    "tipos_de_casa = list()\n",
    "materiales = list()\n",
    "for key, value in d.items():\n",
    "    if key <=3:\n",
    "        tipos_de_casa.append(value)\n",
    "    else:\n",
    "        materiales.append(value)\n",
    "print(tipos_de_casa)\n",
    "print(materiales)"
   ]
  },
  {
   "cell_type": "code",
   "execution_count": 17,
   "metadata": {},
   "outputs": [
    {
     "name": "stdout",
     "output_type": "stream",
     "text": [
      "H\n",
      "o\n",
      "l\n",
      "a\n",
      " \n",
      "m\n",
      "u\n",
      "n\n",
      "d\n",
      "i\n",
      "l\n",
      "l\n",
      "o\n"
     ]
    }
   ],
   "source": [
    "string = 'Hola mundillo'\n",
    "for char in string:\n",
    "    print(char)"
   ]
  },
  {
   "cell_type": "code",
   "execution_count": 15,
   "metadata": {},
   "outputs": [
    {
     "ename": "TypeError",
     "evalue": "'int' object is not iterable",
     "output_type": "error",
     "traceback": [
      "\u001b[0;31m---------------------------------------------------------------------------\u001b[0m",
      "\u001b[0;31mTypeError\u001b[0m                                 Traceback (most recent call last)",
      "\u001b[0;32m<ipython-input-15-fdffb8e04d42>\u001b[0m in \u001b[0;36m<module>\u001b[0;34m\u001b[0m\n\u001b[1;32m      1\u001b[0m \u001b[0mentero\u001b[0m \u001b[0;34m=\u001b[0m \u001b[0;36m745\u001b[0m\u001b[0;34m\u001b[0m\u001b[0;34m\u001b[0m\u001b[0m\n\u001b[0;32m----> 2\u001b[0;31m \u001b[0;32mfor\u001b[0m \u001b[0ment\u001b[0m \u001b[0;32min\u001b[0m \u001b[0mentero\u001b[0m\u001b[0;34m:\u001b[0m\u001b[0;34m\u001b[0m\u001b[0;34m\u001b[0m\u001b[0m\n\u001b[0m\u001b[1;32m      3\u001b[0m     \u001b[0mprint\u001b[0m\u001b[0;34m(\u001b[0m\u001b[0ment\u001b[0m\u001b[0;34m)\u001b[0m\u001b[0;34m\u001b[0m\u001b[0;34m\u001b[0m\u001b[0m\n",
      "\u001b[0;31mTypeError\u001b[0m: 'int' object is not iterable"
     ]
    }
   ],
   "source": [
    "entero = 745\n",
    "for ent in entero:\n",
    "    print(ent)"
   ]
  },
  {
   "cell_type": "code",
   "execution_count": null,
   "metadata": {},
   "outputs": [],
   "source": []
  },
  {
   "cell_type": "markdown",
   "metadata": {},
   "source": [
    "Los diccionario, las listas y los sets son iterables, esto es que puedes aplicar bucles dentro de ellas"
   ]
  },
  {
   "cell_type": "markdown",
   "metadata": {},
   "source": [
    "## List comprehension"
   ]
  },
  {
   "cell_type": "markdown",
   "metadata": {},
   "source": [
    "En python nunca creamos una lista como:\n",
    "```python\n",
    "    c = 0\n",
    "    l = list()\n",
    "    while c < 9:\n",
    "        l.append(c)\n",
    "```\n",
    "\n",
    "Si no que hacemos:\n",
    "        "
   ]
  },
  {
   "cell_type": "code",
   "execution_count": null,
   "metadata": {},
   "outputs": [],
   "source": [
    "l = [_ for _ in range(0, 9)]"
   ]
  },
  {
   "cell_type": "code",
   "execution_count": 27,
   "metadata": {},
   "outputs": [
    {
     "data": {
      "text/plain": [
       "['123T', '457T']"
      ]
     },
     "execution_count": 27,
     "metadata": {},
     "output_type": "execute_result"
    }
   ],
   "source": [
    "l = ['123T', '457T', '876Y']\n",
    "l_endswith_t = [_ for _ in l if _.endswith('T')]\n",
    "l_endswith_t"
   ]
  },
  {
   "cell_type": "code",
   "execution_count": 3,
   "metadata": {},
   "outputs": [
    {
     "data": {
      "text/plain": [
       "'Hola'"
      ]
     },
     "execution_count": 3,
     "metadata": {},
     "output_type": "execute_result"
    }
   ],
   "source": [
    "x = None\n",
    "y = \"Hola\" if x is None else \"Adiós\"\n",
    "y"
   ]
  },
  {
   "cell_type": "markdown",
   "metadata": {},
   "source": [
    "La estructura para las list comprehension son:\n",
    "```python\n",
    "variable = [valor_que_añades for elemento_dentro_de_lo_que_recorres in lista_a_recorrer]\n",
    "```\n",
    "\n",
    "Con una condición añadida quedaría:\n",
    "\n",
    "```python\n",
    "var = [vqa for eddlqr in lar if condición_1]\n",
    "```\n"
   ]
  },
  {
   "cell_type": "code",
   "execution_count": 31,
   "metadata": {},
   "outputs": [
    {
     "name": "stdout",
     "output_type": "stream",
     "text": [
      "0\n",
      "1\n"
     ]
    }
   ],
   "source": [
    "# Este bloque de código de aqui abajo\n",
    "x = False\n",
    "y = 1 if x == True else 0\n",
    "print(y) \n",
    "# Es igual que este otro bloque\n",
    "x = True\n",
    "if x == True:\n",
    "    y = 1\n",
    "else:\n",
    "    y = 0\n",
    "print(y)\n",
    "# La diferencia reside en que el primero es más pythonico"
   ]
  },
  {
   "cell_type": "markdown",
   "metadata": {},
   "source": [
    "# Keywords"
   ]
  },
  {
   "cell_type": "code",
   "execution_count": 33,
   "metadata": {},
   "outputs": [
    {
     "name": "stdout",
     "output_type": "stream",
     "text": [
      "\n",
      "Here is a list of the Python keywords.  Enter any keyword to get more help.\n",
      "\n",
      "False               class               from                or\n",
      "None                continue            global              pass\n",
      "True                def                 if                  raise\n",
      "and                 del                 import              return\n",
      "as                  elif                in                  try\n",
      "assert              else                is                  while\n",
      "async               except              lambda              with\n",
      "await               finally             nonlocal            yield\n",
      "break               for                 not                 \n",
      "\n"
     ]
    }
   ],
   "source": [
    "help('keywords')"
   ]
  },
  {
   "cell_type": "markdown",
   "metadata": {},
   "source": [
    "Lo de arriba es un extracto de algunas palabras clave que tiene reservadas python porque hacen alguna función"
   ]
  },
  {
   "cell_type": "code",
   "execution_count": 2,
   "metadata": {},
   "outputs": [
    {
     "ename": "TypeError",
     "evalue": "'list' object is not callable",
     "output_type": "error",
     "traceback": [
      "\u001b[0;31m---------------------------------------------------------------------------\u001b[0m",
      "\u001b[0;31mTypeError\u001b[0m                                 Traceback (most recent call last)",
      "\u001b[0;32m<ipython-input-2-1d02e7cc800f>\u001b[0m in \u001b[0;36m<module>\u001b[0;34m\u001b[0m\n\u001b[1;32m      2\u001b[0m \u001b[0;31m# ello es recomendable no usar estas palabras como nombres de variables. Podemos usar algo como lo que\u001b[0m\u001b[0;34m\u001b[0m\u001b[0;34m\u001b[0m\u001b[0;34m\u001b[0m\u001b[0m\n\u001b[1;32m      3\u001b[0m \u001b[0;31m# hay en la celda de abajo\u001b[0m\u001b[0;34m\u001b[0m\u001b[0;34m\u001b[0m\u001b[0;34m\u001b[0m\u001b[0m\n\u001b[0;32m----> 4\u001b[0;31m \u001b[0mlist\u001b[0m \u001b[0;34m=\u001b[0m \u001b[0mlist\u001b[0m\u001b[0;34m(\u001b[0m\u001b[0;34m'asd'\u001b[0m\u001b[0;34m)\u001b[0m\u001b[0;34m\u001b[0m\u001b[0;34m\u001b[0m\u001b[0m\n\u001b[0m\u001b[1;32m      5\u001b[0m \u001b[0mprint\u001b[0m\u001b[0;34m(\u001b[0m\u001b[0mlist\u001b[0m\u001b[0;34m)\u001b[0m\u001b[0;34m\u001b[0m\u001b[0;34m\u001b[0m\u001b[0m\n\u001b[1;32m      6\u001b[0m \u001b[0mf\u001b[0m \u001b[0;34m=\u001b[0m \u001b[0mlist\u001b[0m\u001b[0;34m(\u001b[0m\u001b[0;34m)\u001b[0m\u001b[0;34m\u001b[0m\u001b[0;34m\u001b[0m\u001b[0m\n",
      "\u001b[0;31mTypeError\u001b[0m: 'list' object is not callable"
     ]
    }
   ],
   "source": [
    "# Al hacer esto lo que nos hacemos es cargarnos la funcionalidad de la palabra list en este caso por\n",
    "# ello es recomendable no usar estas palabras como nombres de variables. Podemos usar algo como lo que\n",
    "# hay en la celda de abajo\n",
    "list = list('asd')\n",
    "print(list)\n",
    "f = list()\n",
    "f"
   ]
  },
  {
   "cell_type": "code",
   "execution_count": 1,
   "metadata": {},
   "outputs": [
    {
     "name": "stdout",
     "output_type": "stream",
     "text": [
      "['a', 's', 'd']\n"
     ]
    },
    {
     "data": {
      "text/plain": [
       "[]"
      ]
     },
     "execution_count": 1,
     "metadata": {},
     "output_type": "execute_result"
    }
   ],
   "source": [
    "# He tenido que resetear el kernel porque anteriormente me he cargado la funcionalidad\n",
    "list_ = list('asd')\n",
    "print(list_)\n",
    "f = list()\n",
    "f"
   ]
  },
  {
   "cell_type": "code",
   "execution_count": null,
   "metadata": {},
   "outputs": [],
   "source": [
    "# Las variables locales son aquellas que están internas y solo se pueden ejecutar dentro del programa; las globales son generales y pueden ejecurase fuera"
   ]
  },
  {
   "cell_type": "code",
   "execution_count": null,
   "metadata": {},
   "outputs": [],
   "source": []
  },
  {
   "cell_type": "markdown",
   "metadata": {},
   "source": [
    "# Asignación de variables. Copiado y referenciado."
   ]
  },
  {
   "cell_type": "markdown",
   "metadata": {},
   "source": [
    "Como ya sabemos una variable se asigna por ejemplo de la siguiente manera"
   ]
  },
  {
   "cell_type": "code",
   "execution_count": 26,
   "metadata": {},
   "outputs": [],
   "source": [
    "x = 7"
   ]
  },
  {
   "cell_type": "markdown",
   "metadata": {},
   "source": [
    "Ahora bien, tambien podemos asignar el valor de una variable a otra variable siendo las dos iguales:"
   ]
  },
  {
   "cell_type": "code",
   "execution_count": 29,
   "metadata": {},
   "outputs": [
    {
     "name": "stdout",
     "output_type": "stream",
     "text": [
      "8 8\n"
     ]
    },
    {
     "data": {
      "text/plain": [
       "True"
      ]
     },
     "execution_count": 29,
     "metadata": {},
     "output_type": "execute_result"
    }
   ],
   "source": [
    "y = x\n",
    "print(x, y)\n",
    "x == y"
   ]
  },
  {
   "cell_type": "markdown",
   "metadata": {},
   "source": [
    "En este caso no estamos creando una nueva variable y con el valor de la variable en x si no que estamos haciendo que x se refiera a y, por lo que si cambia y cambiaría también x. Esto se hace así para evitar consumir memoria y guardar dos veces la mimas información."
   ]
  },
  {
   "cell_type": "code",
   "execution_count": 30,
   "metadata": {},
   "outputs": [
    {
     "data": {
      "text/plain": [
       "8"
      ]
     },
     "execution_count": 30,
     "metadata": {},
     "output_type": "execute_result"
    }
   ],
   "source": [
    "x = 8\n",
    "y"
   ]
  },
  {
   "cell_type": "markdown",
   "metadata": {},
   "source": [
    "# Funciones"
   ]
  },
  {
   "cell_type": "markdown",
   "metadata": {},
   "source": [
    "Vamos a ver como se estructura una función."
   ]
  },
  {
   "cell_type": "code",
   "execution_count": 22,
   "metadata": {},
   "outputs": [],
   "source": [
    "def media_vector(vector):\n",
    "    \"\"\"\n",
    "    Esta función sirve para calcular la media de un vector dado.\n",
    "    \n",
    "    Parameters:\n",
    "    vector (list[float]): Lista de N números sobre los cuales se hará una media\n",
    "    \n",
    "    Returns:\n",
    "    float: Media del vector\n",
    "    \"\"\"\n",
    "    num = sum(vector)\n",
    "    den = len(vector)\n",
    "    return num/den"
   ]
  },
  {
   "cell_type": "markdown",
   "metadata": {},
   "source": [
    "Una función se define siempre empezando por 'def'. Tras esto podemos ver el nombre de la función en color azul que normalmente será snake_case. Entre paréntesis se encuentran los argumentos/variables/inputs de la función, para el ejemplo anterior es uno solo que tiene de nombre 'vector'. Tras esto ponemos los ':' para especificar que el código que viene a continuación pertenece a la función. Se observa también un comentario escrito entre 3 comillas dobles que equivale al docstring o información de lo que hace la función. Tras esto vendría el algoritmo propiamente dicho o los cálculos y finalmente si queremos que nuestra función de un resultado de vuelta que podamos asignarle a una variable debemos poner un return."
   ]
  },
  {
   "cell_type": "markdown",
   "metadata": {},
   "source": [
    "**Ejercicio 11**: Escribe una función que a una cadena de texto reemplaze los signos de puntuación ['.', ',', ';', ':', '!', '¡', '?', '¿', '(', ')', '-'] por la cadena vacía"
   ]
  },
  {
   "cell_type": "code",
   "execution_count": 3,
   "metadata": {},
   "outputs": [],
   "source": [
    "text = \"¡Hola!, soy Edu. —¿Estás?\""
   ]
  },
  {
   "cell_type": "code",
   "execution_count": 5,
   "metadata": {},
   "outputs": [
    {
     "data": {
      "text/plain": [
       "'Hola soy Edu Estás'"
      ]
     },
     "execution_count": 5,
     "metadata": {},
     "output_type": "execute_result"
    }
   ],
   "source": [
    "def signos_clean(string):\n",
    "    puntuacion = [\".\",\",\",\";\",\":\",\"¡\",\"!\",\"¿\",\"?\",\"_\",\"–\",\"—\"]\n",
    "    for signo in puntuacion:  #\"signo\" aquí es un elemento comodín.\n",
    "        string = string.replace(signo, \"\")\n",
    "        \n",
    "    return string\n",
    "    \n",
    "    \n",
    "texto = signos_clean(text)\n",
    "texto"
   ]
  },
  {
   "cell_type": "markdown",
   "metadata": {},
   "source": [
    "Además de las funciones como acabamos de ver, tambien podemos definir funciones con parámetros por defecto. Esto es como sigue:"
   ]
  },
  {
   "cell_type": "code",
   "execution_count": 1,
   "metadata": {},
   "outputs": [],
   "source": [
    "def elevar_un_numero(num, pot=2):\n",
    "    \"\"\"\n",
    "    Esta función eleva un número a N (por defecto N=2)\n",
    "    \n",
    "    Parameters:\n",
    "    num (float): Número base que se eleva\n",
    "    pot (float): Potencia a la que se eleva\n",
    "    \n",
    "    Return:\n",
    "    float: Potencia del número num elevado a pot\n",
    "    \"\"\"\n",
    "    calc = num ** pot\n",
    "    return calc"
   ]
  },
  {
   "cell_type": "code",
   "execution_count": 4,
   "metadata": {},
   "outputs": [
    {
     "name": "stdout",
     "output_type": "stream",
     "text": [
      "Nos eleva al cuadrado 5**2=25\n",
      "Nos eleva al cubo 5**3=125\n",
      "Nos eleva al cuadrado 7**2=49\n",
      "Nos eleva a la septima 2**7=128\n"
     ]
    }
   ],
   "source": [
    "# Si escribimos solo \n",
    "num = elevar_un_numero(5)\n",
    "print(f'Nos eleva al cuadrado 5**2={num}')\n",
    "\n",
    "# Pero podemos cambiar el valor de la potencia, especificando esa variable por posición. Si lo hacemos de esta manera \n",
    "# la posición es muy importante ya que si cambias los números de posición cambia la lógica de la función.\n",
    "num = elevar_un_numero(5, 3)\n",
    "print(f'Nos eleva al cubo 5**3={num}')\n",
    "\n",
    "# O podemos cambiarlo por nombre de variable. En este caso como se referencia a la variable por nombre, da igual el orden.\n",
    "num = elevar_un_numero(num=7, pot=2)\n",
    "print(f'Nos eleva al cuadrado 7**2={num}')\n",
    "num = elevar_un_numero(pot=7, num=2)\n",
    "print(f'Nos eleva a la septima 2**7={num}')"
   ]
  },
  {
   "cell_type": "markdown",
   "metadata": {},
   "source": [
    "**Ejercicio12**: Haz una función que te devuelva (aproximadamente) el salario neto, y además la media de lo que cobrarías al mes si fueran 12 o 14 pagas como lo que quedaría de pagas extraordinarias en caso de que fueran 12 pagas. [distribución de IRPF](https://factorialhr.es/blog/calcular-sueldo-neto-bruto/). La variable de entrada son el salario bruto y las pagas que hay (por defecto poner 14)."
   ]
  },
  {
   "cell_type": "code",
   "execution_count": null,
   "metadata": {},
   "outputs": [],
   "source": [
    "# bruto -> pagas netas y la distribución mensual de ellas (predef. 14)\n",
    "bruto = 15.000,30\n",
    "pagas = 12\n",
    "def pagas(bruto, pagas=14):\n",
    "    dto_IRPF = \n",
    "    for _ in dto_IRPF\n",
    "    \n",
    "    neto = bruto - (bruto * [TRALALALALA] /100)\n",
    "    return neto"
   ]
  },
  {
   "cell_type": "code",
   "execution_count": 18,
   "metadata": {},
   "outputs": [
    {
     "data": {
      "text/plain": [
       "(17222.559999999998, 1435.2133333333331)"
      ]
     },
     "execution_count": 18,
     "metadata": {},
     "output_type": "execute_result"
    }
   ],
   "source": [
    "def IRPF(bruto, pagas=14):\n",
    "    hacienda = 0\n",
    "    b = bruto\n",
    "    cond = True\n",
    "    \n",
    "    while cond:\n",
    "        if b > 60000:\n",
    "            hacienda += (b - 60000)*.45\n",
    "            b -= (b - 60000)\n",
    "\n",
    "        elif b > 35201:\n",
    "            hacienda += (b - 35201)*.34\n",
    "            b -= (b - 35201)\n",
    "\n",
    "        elif b > 20001:\n",
    "            hacienda += (b - 20001)*.30\n",
    "            b -= (b - 20001)\n",
    "\n",
    "        elif b > 12450:\n",
    "            hacienda += (b - 12450)*.24\n",
    "            b -= (b - 12450)\n",
    "\n",
    "        else:\n",
    "            hacienda += b*.19\n",
    "            b -= b*.19\n",
    "            cond = False\n",
    "            \n",
    "    neto = bruto - hacienda\n",
    "    \n",
    "    return neto, neto/pagas\n",
    "\n",
    "IRPF(22000,12)"
   ]
  },
  {
   "cell_type": "code",
   "execution_count": 18,
   "metadata": {},
   "outputs": [
    {
     "data": {
      "text/plain": [
       "(17222.559999999998, 1435.2133333333331)"
      ]
     },
     "execution_count": 18,
     "metadata": {},
     "output_type": "execute_result"
    }
   ],
   "source": [
    "def IRPF(bruto, pagas=14):\n",
    "    hacienda = 0\n",
    "    b = bruto\n",
    "    cond = True\n",
    "    \n",
    "    while cond:\n",
    "        if b > 60000:\n",
    "            hacienda += (b - 60000)*.45\n",
    "            b -= (b - 60000)\n",
    "\n",
    "        elif b > 35201:\n",
    "            hacienda += (b - 35201)*.34\n",
    "            b -= (b - 35201)\n",
    "\n",
    "        elif b > 20001:\n",
    "            hacienda += (b - 20001)*.30\n",
    "            b -= (b - 20001)\n",
    "\n",
    "        elif b > 12450:\n",
    "            hacienda += (b - 12450)*.24\n",
    "            b -= (b - 12450)\n",
    "\n",
    "        else:\n",
    "            hacienda += b*.19\n",
    "            b -= b*.19\n",
    "            cond = False\n",
    "            \n",
    "    neto = bruto - hacienda\n",
    "    \n",
    "    return neto, neto/pagas\n",
    "\n",
    "IRPF(22000,12)"
   ]
  },
  {
   "cell_type": "code",
   "execution_count": 20,
   "metadata": {},
   "outputs": [
    {
     "data": {
      "text/plain": [
       "(17222.559999999998,\n",
       " [1435.2133333333331,\n",
       "  1435.2133333333331,\n",
       "  1435.2133333333331,\n",
       "  1435.2133333333331,\n",
       "  1435.2133333333331,\n",
       "  1435.2133333333331,\n",
       "  1435.2133333333331,\n",
       "  1435.2133333333331,\n",
       "  1435.2133333333331,\n",
       "  1435.2133333333331,\n",
       "  1435.2133333333331,\n",
       "  1435.2133333333331])"
      ]
     },
     "execution_count": 20,
     "metadata": {},
     "output_type": "execute_result"
    }
   ],
   "source": [
    "def IRPF(bruto, pagas=14):\n",
    "    hacienda = 0\n",
    "    b = bruto\n",
    "    cond = True\n",
    "    \n",
    "    while cond:\n",
    "        if b > 60000:\n",
    "            hacienda += (b - 60000)*.45\n",
    "            b -= (b - 60000)\n",
    "\n",
    "        elif b > 35201:\n",
    "            hacienda += (b - 35201)*.34\n",
    "            b -= (b - 35201)\n",
    "\n",
    "        elif b > 20001:\n",
    "            hacienda += (b - 20001)*.30\n",
    "            b -= (b - 20001)\n",
    "\n",
    "        elif b > 12450:\n",
    "            hacienda += (b - 12450)*.24\n",
    "            b -= (b - 12450)\n",
    "\n",
    "        else:\n",
    "            hacienda += b*.19\n",
    "            b -= b*.19\n",
    "            cond = False\n",
    "            \n",
    "    neto = bruto - hacienda\n",
    "    \n",
    "    return neto, [neto/pagas for _ in range(0,12)]\n",
    "\n",
    "IRPF(22000,12)"
   ]
  },
  {
   "cell_type": "markdown",
   "metadata": {},
   "source": [
    "Las variables que crees dentro de una función son específica de ese espacio, no se pueden usar dentro. Sin embargo las variables que creemos fuera de funciones si se pueden usar para esta. Veamoslo con un ejemplo:"
   ]
  },
  {
   "cell_type": "code",
   "execution_count": 18,
   "metadata": {},
   "outputs": [
    {
     "data": {
      "text/plain": [
       "1.0"
      ]
     },
     "execution_count": 18,
     "metadata": {},
     "output_type": "execute_result"
    }
   ],
   "source": [
    "# Funciona!\n",
    "a = 7\n",
    "def divide_entre_siete(x):\n",
    "    return x/a\n",
    "\n",
    "res = divide_entre_siete(7)\n",
    "res"
   ]
  },
  {
   "cell_type": "code",
   "execution_count": 20,
   "metadata": {},
   "outputs": [
    {
     "name": "stdout",
     "output_type": "stream",
     "text": [
      "1.0\n"
     ]
    },
    {
     "ename": "NameError",
     "evalue": "name 'aaa' is not defined",
     "output_type": "error",
     "traceback": [
      "\u001b[0;31m---------------------------------------------------------------------------\u001b[0m",
      "\u001b[0;31mNameError\u001b[0m                                 Traceback (most recent call last)",
      "\u001b[0;32m<ipython-input-20-e5e07e35e02d>\u001b[0m in \u001b[0;36m<module>\u001b[0;34m\u001b[0m\n\u001b[1;32m      6\u001b[0m \u001b[0mres\u001b[0m \u001b[0;34m=\u001b[0m \u001b[0mdivide_entre_siete\u001b[0m\u001b[0;34m(\u001b[0m\u001b[0;36m7\u001b[0m\u001b[0;34m)\u001b[0m\u001b[0;34m\u001b[0m\u001b[0;34m\u001b[0m\u001b[0m\n\u001b[1;32m      7\u001b[0m \u001b[0mprint\u001b[0m\u001b[0;34m(\u001b[0m\u001b[0mres\u001b[0m\u001b[0;34m)\u001b[0m\u001b[0;34m\u001b[0m\u001b[0;34m\u001b[0m\u001b[0m\n\u001b[0;32m----> 8\u001b[0;31m \u001b[0mprint\u001b[0m\u001b[0;34m(\u001b[0m\u001b[0maaa\u001b[0m\u001b[0;34m)\u001b[0m\u001b[0;34m\u001b[0m\u001b[0;34m\u001b[0m\u001b[0m\n\u001b[0m",
      "\u001b[0;31mNameError\u001b[0m: name 'aaa' is not defined"
     ]
    }
   ],
   "source": [
    "# No funciona! porque está definida dentro del entorno de la función.\n",
    "def divide_entre_siete(x):\n",
    "    aaa = 7\n",
    "    return x/aaa\n",
    "\n",
    "res = divide_entre_siete(7)\n",
    "print(res)\n",
    "print(aaa)"
   ]
  },
  {
   "cell_type": "markdown",
   "metadata": {},
   "source": [
    "## Argumentos flexibles: ``*args`` & ``**kwargs``\n",
    "A veces no queremos especificar el número de variables que tiene nuestra función, para ello se usan estos argumentos para capturar todos los argumentos que queramos. "
   ]
  },
  {
   "cell_type": "code",
   "execution_count": 5,
   "metadata": {},
   "outputs": [],
   "source": [
    "def catch_all(*args, **kwargs):\n",
    "    print(\"args =\", args)\n",
    "    print(\"kwargs = \", kwargs)"
   ]
  },
  {
   "cell_type": "code",
   "execution_count": 6,
   "metadata": {},
   "outputs": [
    {
     "name": "stdout",
     "output_type": "stream",
     "text": [
      "args = (1, 2, 3)\n",
      "kwargs =  {'a': 4, 'b': 5}\n"
     ]
    }
   ],
   "source": [
    "catch_all(1, 2, 3, a=4, b=5)"
   ]
  },
  {
   "cell_type": "code",
   "execution_count": 7,
   "metadata": {},
   "outputs": [
    {
     "name": "stdout",
     "output_type": "stream",
     "text": [
      "args = ('a',)\n",
      "kwargs =  {'keyword': 2}\n"
     ]
    }
   ],
   "source": [
    "catch_all('a', keyword=2)"
   ]
  },
  {
   "cell_type": "markdown",
   "metadata": {},
   "source": [
    "El caracter ``*`` significa expande esta secuencia mientras que el parámetro ``**`` significa expande este diccionario."
   ]
  },
  {
   "cell_type": "code",
   "execution_count": 8,
   "metadata": {},
   "outputs": [
    {
     "name": "stdout",
     "output_type": "stream",
     "text": [
      "args = (1, 2, 3)\n",
      "kwargs =  {'pi': 3.14}\n"
     ]
    }
   ],
   "source": [
    "inputs = (1, 2, 3)\n",
    "keywords = {'pi': 3.14}\n",
    "\n",
    "catch_all(*inputs, **keywords)"
   ]
  },
  {
   "cell_type": "code",
   "execution_count": 10,
   "metadata": {},
   "outputs": [
    {
     "ename": "SyntaxError",
     "evalue": "positional argument follows keyword argument (<ipython-input-10-447a8ea8f12b>, line 1)",
     "output_type": "error",
     "traceback": [
      "\u001b[0;36m  File \u001b[0;32m\"<ipython-input-10-447a8ea8f12b>\"\u001b[0;36m, line \u001b[0;32m1\u001b[0m\n\u001b[0;31m    catch_all(a=7, 5, 6)\u001b[0m\n\u001b[0m                  ^\u001b[0m\n\u001b[0;31mSyntaxError\u001b[0m\u001b[0;31m:\u001b[0m positional argument follows keyword argument\n"
     ]
    }
   ],
   "source": [
    "# Esto falla porque requiere que la posición sea la adecuada a la posición de estos argumentos\n",
    "catch_all(a=7, 5, 6)"
   ]
  },
  {
   "cell_type": "code",
   "execution_count": 13,
   "metadata": {},
   "outputs": [
    {
     "name": "stdout",
     "output_type": "stream",
     "text": [
      "args = (1, 2, 3)\n",
      "kwargs =  {}\n",
      "#######\n",
      "args = ()\n",
      "kwargs =  {'a': 1, 'b': 2}\n"
     ]
    }
   ],
   "source": [
    "catch_all(1, 2, 3)\n",
    "print('#'*7)\n",
    "catch_all(a=1, b=2)"
   ]
  },
  {
   "cell_type": "code",
   "execution_count": 16,
   "metadata": {},
   "outputs": [
    {
     "data": {
      "text/plain": [
       "5.5"
      ]
     },
     "execution_count": 16,
     "metadata": {},
     "output_type": "execute_result"
    }
   ],
   "source": [
    "def media_vector(*args):\n",
    "    return sum(args)/len(args)\n",
    "media_vector(1,2,3,4,5,6,7,8,9,10)"
   ]
  },
  {
   "cell_type": "markdown",
   "metadata": {},
   "source": [
    "# Clases"
   ]
  },
  {
   "cell_type": "markdown",
   "metadata": {},
   "source": [
    "**Definición del profe**: Las clases son agrupaciones de funciones (dentro de una clase a las funciones se les llama métodos) que realizan operaciones similares, por lo que son buenas para agrupar funcionalidades parecidas.\n",
    "\n",
    "**Definición de alguien que sabe**: Las clases proveen una forma de empaquetar datos y funcionalidad juntos. Al crear una nueva clase, se crea un nuevo tipo de objeto, permitiendo crear nuevas instancias de ese tipo. Cada instancia de clase puede tener atributos adjuntos para mantener su estado. Las instancias de clase también pueden tener métodos (definidos por su clase) para modificar su estado."
   ]
  },
  {
   "cell_type": "markdown",
   "metadata": {},
   "source": [
    "A una instancia de un objeto se le llama a llamar a una clase (como si llamas a una función) y a ejecutar un método de una clase es a ejecutar una función que hay dentro de esa clase. Veamos un ejemplo:"
   ]
  },
  {
   "cell_type": "code",
   "execution_count": 26,
   "metadata": {},
   "outputs": [
    {
     "name": "stdout",
     "output_type": "stream",
     "text": [
      "<__main__.MiPrimeraClase object at 0x10fcd4ad0>\n",
      "[]\n",
      "['Pan', 'Uvas']\n"
     ]
    }
   ],
   "source": [
    "class MiPrimeraClase():\n",
    "    \"\"\"\n",
    "    Mi primera clase.\n",
    "    \"\"\"\n",
    "    \n",
    "    def __init__(self): \n",
    "        \"\"\"\n",
    "        Este método se ejecuta en el momento en el que instancias la clase\n",
    "        \"\"\"\n",
    "        self.lista_compra = []\n",
    "        \n",
    "    def anadir(self, prod):\n",
    "        \"\"\"\n",
    "        Este es un método que puede usarse tantas veces como se requiera\n",
    "        \"\"\"\n",
    "        self.lista_compra.append(prod)\n",
    "\n",
    "# Instancio el objecto (llamo a la clase) MiPrimeraClase\n",
    "clase = MiPrimeraClase()\n",
    "print(clase)\n",
    "\n",
    "# Puedo ver las variables que tiene la clase:\n",
    "print(clase.lista_compra)\n",
    "\n",
    "# Puedo además usar el método de la clase para añadir objetos a esta lista\n",
    "clase.anadir('Pan')\n",
    "clase.anadir('Uvas')\n",
    "\n",
    "# Y ver como ha cambiado esta variable de la clase\n",
    "print(clase.lista_compra)"
   ]
  },
  {
   "cell_type": "markdown",
   "metadata": {},
   "source": [
    "El **self** que escribimos en todos los métodos es una variable muda (esto quiere decir que al llamar al método no hace falta declararla) por que hace referencia a todo lo que se contenga dentro del ecosistema de la clase."
   ]
  },
  {
   "cell_type": "markdown",
   "metadata": {},
   "source": [
    "En el ejemplo anterior hemos podido ver la variable lista_compra porque era una variable pública, esto sin embargo puede no ser así definiendo las variables como privadas. Veamos un ejemplo:"
   ]
  },
  {
   "cell_type": "code",
   "execution_count": 27,
   "metadata": {},
   "outputs": [],
   "source": [
    "class Coche():\n",
    "    \n",
    "    def __init__(self, marca):\n",
    "        self.marca = marca\n",
    "        self.__color = 'Gris Antracita' # Anteceder al nombre de la variable dos barras bajas indica variable privada"
   ]
  },
  {
   "cell_type": "code",
   "execution_count": 28,
   "metadata": {},
   "outputs": [
    {
     "data": {
      "text/plain": [
       "'Toyota Hybrid'"
      ]
     },
     "execution_count": 28,
     "metadata": {},
     "output_type": "execute_result"
    }
   ],
   "source": [
    "coche = Coche(marca='Toyota Hybrid')\n",
    "coche.marca"
   ]
  },
  {
   "cell_type": "code",
   "execution_count": 30,
   "metadata": {},
   "outputs": [
    {
     "ename": "AttributeError",
     "evalue": "'Coche' object has no attribute '__color'",
     "output_type": "error",
     "traceback": [
      "\u001b[0;31m---------------------------------------------------------------------------\u001b[0m",
      "\u001b[0;31mAttributeError\u001b[0m                            Traceback (most recent call last)",
      "\u001b[0;32m<ipython-input-30-b77bb438f76d>\u001b[0m in \u001b[0;36m<module>\u001b[0;34m\u001b[0m\n\u001b[1;32m      1\u001b[0m \u001b[0;31m# Falla porque esa variable es privada\u001b[0m\u001b[0;34m\u001b[0m\u001b[0;34m\u001b[0m\u001b[0;34m\u001b[0m\u001b[0m\n\u001b[0;32m----> 2\u001b[0;31m \u001b[0mcoche\u001b[0m\u001b[0;34m.\u001b[0m\u001b[0m__color\u001b[0m\u001b[0;34m\u001b[0m\u001b[0;34m\u001b[0m\u001b[0m\n\u001b[0m",
      "\u001b[0;31mAttributeError\u001b[0m: 'Coche' object has no attribute '__color'"
     ]
    }
   ],
   "source": [
    "# Falla porque esa variable es privada\n",
    "coche.__color"
   ]
  },
  {
   "cell_type": "markdown",
   "metadata": {},
   "source": [
    "Sin embargo esta variable privada si que puede ser usada dentro del ecosistema de la clase. Por ejemplo"
   ]
  },
  {
   "cell_type": "code",
   "execution_count": 30,
   "metadata": {},
   "outputs": [],
   "source": [
    "class Coche():\n",
    "    \n",
    "    def __init__(self, marca):\n",
    "        self.marca = marca\n",
    "        self.__color = 'Gris Antracita' # Anteceder al nombre de la variable dos barras baja indica variable privada\n",
    "        \n",
    "    def get_color(self):\n",
    "        return self.__color"
   ]
  },
  {
   "cell_type": "code",
   "execution_count": 31,
   "metadata": {},
   "outputs": [
    {
     "name": "stdout",
     "output_type": "stream",
     "text": [
      "Toyota Hybrid\n",
      "Gris Antracita\n"
     ]
    }
   ],
   "source": [
    "coche = Coche(marca='Toyota Hybrid')\n",
    "print(coche.marca)\n",
    "print(coche.get_color())"
   ]
  },
  {
   "cell_type": "markdown",
   "metadata": {},
   "source": [
    "Dado que la variable color es privada no podemos cambiar el valor de esta... ¿o sí?"
   ]
  },
  {
   "cell_type": "markdown",
   "metadata": {},
   "source": [
    "**Ejercicio 13**: A la clase Coche añadir un método que permita cambiar el valor de la variable privada color"
   ]
  },
  {
   "cell_type": "markdown",
   "metadata": {},
   "source": [
    "Tambien las funciones pueden ser privadas por lo que solo podrían usarse dentro del ecosistema de la clase"
   ]
  },
  {
   "cell_type": "code",
   "execution_count": 49,
   "metadata": {},
   "outputs": [],
   "source": [
    "class Coche():\n",
    "    \n",
    "    def __init__(self, marca):\n",
    "        self.marca = marca\n",
    "        self.__color = 'Gris Antracita' # Anteceder al nombre de la variable dos barras bajas indica variable privada\n",
    "        \n",
    "    def get_color(self):\n",
    "        return self.__color\n",
    "    \n",
    "    def __change_color(self, new_color):\n",
    "        self.__color = new_color\n",
    "    \n",
    "    def change_c(self, nc):\n",
    "        nc = nc.capitalize()\n",
    "        if nc in ['Rojo', 'Gris Antracita', 'Azul']:\n",
    "            self.__change_color(new_color=nc)\n",
    "        else:\n",
    "            raise 'El color no es ni Rojo ni Gris Antracita ni Azul'"
   ]
  },
  {
   "cell_type": "code",
   "execution_count": 50,
   "metadata": {},
   "outputs": [],
   "source": [
    "c = Coche('Lexus')"
   ]
  },
  {
   "cell_type": "code",
   "execution_count": 51,
   "metadata": {},
   "outputs": [
    {
     "ename": "AttributeError",
     "evalue": "'Coche' object has no attribute '__change_color'",
     "output_type": "error",
     "traceback": [
      "\u001b[0;31m---------------------------------------------------------------------------\u001b[0m",
      "\u001b[0;31mAttributeError\u001b[0m                            Traceback (most recent call last)",
      "\u001b[0;32m<ipython-input-51-a708583852cb>\u001b[0m in \u001b[0;36m<module>\u001b[0;34m\u001b[0m\n\u001b[1;32m      1\u001b[0m \u001b[0;31m# Esto falla\u001b[0m\u001b[0;34m\u001b[0m\u001b[0;34m\u001b[0m\u001b[0;34m\u001b[0m\u001b[0m\n\u001b[0;32m----> 2\u001b[0;31m \u001b[0mc\u001b[0m\u001b[0;34m.\u001b[0m\u001b[0m__change_color\u001b[0m\u001b[0;34m(\u001b[0m\u001b[0;34m'Rojo'\u001b[0m\u001b[0;34m)\u001b[0m\u001b[0;34m\u001b[0m\u001b[0;34m\u001b[0m\u001b[0m\n\u001b[0m",
      "\u001b[0;31mAttributeError\u001b[0m: 'Coche' object has no attribute '__change_color'"
     ]
    }
   ],
   "source": [
    "# Esto falla\n",
    "c.__change_color('Rojo')"
   ]
  },
  {
   "cell_type": "code",
   "execution_count": 52,
   "metadata": {},
   "outputs": [
    {
     "name": "stdout",
     "output_type": "stream",
     "text": [
      "Rojo\n"
     ]
    }
   ],
   "source": [
    "# Pero podemos hacer esto\n",
    "c.change_c('Rojo')\n",
    "print(c.get_color())"
   ]
  },
  {
   "cell_type": "markdown",
   "metadata": {},
   "source": [
    "Podríamos crea dentro de clases tambien métodos que se usan solo fuera del ecosistema de la clase:"
   ]
  },
  {
   "cell_type": "code",
   "execution_count": 80,
   "metadata": {},
   "outputs": [],
   "source": [
    "class Coche():\n",
    "    \n",
    "    def __init__(self, marca):\n",
    "        self.marca = marca\n",
    "        self.__color = 'Gris Antracita' # Anteceder al nombre de la variable dos barras bajas indica variable privada\n",
    "        \n",
    "    def get_color(self):\n",
    "        return self.__color\n",
    "    \n",
    "    def __change_color(self, new_color):\n",
    "        self.__color = new_color\n",
    "    \n",
    "    def change_c(self, nc):\n",
    "        nc = nc.capitalize()\n",
    "        if nc in ['Rojo', 'Gris Antracita', 'Azul']:\n",
    "            self.__change_color(new_color=nc)\n",
    "        else:\n",
    "            raise 'El color no es ni Rojo ni Gris Antracita ni Azul'\n",
    "            \n",
    "    @staticmethod # <-- Esto se le denomina decorador de la función\n",
    "    def ruedas_de_repuesto(): # No tiene el self por lo que no pertenece al ecosistema de la clase\n",
    "        return 1"
   ]
  },
  {
   "cell_type": "code",
   "execution_count": 81,
   "metadata": {},
   "outputs": [
    {
     "data": {
      "text/plain": [
       "1"
      ]
     },
     "execution_count": 81,
     "metadata": {},
     "output_type": "execute_result"
    }
   ],
   "source": [
    "r = Coche('Lexus')\n",
    "r.ruedas_de_repuesto()"
   ]
  },
  {
   "cell_type": "code",
   "execution_count": 87,
   "metadata": {},
   "outputs": [],
   "source": [
    "class Coche():\n",
    "    \n",
    "    def __init__(self, marca):\n",
    "        self.marca = marca\n",
    "        self.__color = 'Gris Antracita' # Anteceder al nombre de la variable dos barras bajas indica variable privada\n",
    "        \n",
    "    def get_color(self):\n",
    "        \"\"\"\n",
    "        A este tipo de métodos se les denomina getter dado que obtiene valores de variables de clases\n",
    "        \"\"\"\n",
    "        return self.__color\n",
    "    \n",
    "    def __change_color(self, new_color):\n",
    "        \"\"\"\n",
    "        A este tipo de métodos se les denomina setter porque establecen variables dentro de la clase\n",
    "        \"\"\"\n",
    "        self.__color = new_color\n",
    "    \n",
    "    def change_c(self, nc):\n",
    "        nc = nc.capitalize()\n",
    "        if nc in ['Rojo', 'Gris Antracita', 'Azul']:\n",
    "            self.__change_color(new_color=nc)\n",
    "        else:\n",
    "            raise 'El color no es ni Rojo ni Gris Antracita ni Azul'\n",
    "            \n",
    "    @staticmethod \n",
    "    def ruedas_de_repuesto():\n",
    "        return 1\n",
    "    \n",
    "    @staticmethod\n",
    "    def ruedas_total():\n",
    "        return ruedas_de_repuesto + 4"
   ]
  },
  {
   "cell_type": "code",
   "execution_count": 85,
   "metadata": {},
   "outputs": [
    {
     "ename": "NameError",
     "evalue": "name 'ruedas_de_repuesto' is not defined",
     "output_type": "error",
     "traceback": [
      "\u001b[0;31m---------------------------------------------------------------------------\u001b[0m",
      "\u001b[0;31mNameError\u001b[0m                                 Traceback (most recent call last)",
      "\u001b[0;32m<ipython-input-85-3fc75769de14>\u001b[0m in \u001b[0;36m<module>\u001b[0;34m\u001b[0m\n\u001b[1;32m      1\u001b[0m \u001b[0;31m# No funciona porque el metodo ruedas_de_repuesto no está dentro de la clase. ¿Cómo podríamos hacer para poder usarlo?\u001b[0m\u001b[0;34m\u001b[0m\u001b[0;34m\u001b[0m\u001b[0;34m\u001b[0m\u001b[0m\n\u001b[1;32m      2\u001b[0m \u001b[0mrt\u001b[0m \u001b[0;34m=\u001b[0m \u001b[0mCoche\u001b[0m\u001b[0;34m(\u001b[0m\u001b[0;34m'Audi'\u001b[0m\u001b[0;34m)\u001b[0m\u001b[0;34m\u001b[0m\u001b[0;34m\u001b[0m\u001b[0m\n\u001b[0;32m----> 3\u001b[0;31m \u001b[0mrt\u001b[0m\u001b[0;34m.\u001b[0m\u001b[0mruedas_total\u001b[0m\u001b[0;34m(\u001b[0m\u001b[0;34m)\u001b[0m\u001b[0;34m\u001b[0m\u001b[0;34m\u001b[0m\u001b[0m\n\u001b[0m",
      "\u001b[0;32m<ipython-input-83-56772a0aa499>\u001b[0m in \u001b[0;36mruedas_total\u001b[0;34m()\u001b[0m\n\u001b[1;32m     24\u001b[0m     \u001b[0;34m@\u001b[0m\u001b[0mstaticmethod\u001b[0m\u001b[0;34m\u001b[0m\u001b[0;34m\u001b[0m\u001b[0m\n\u001b[1;32m     25\u001b[0m     \u001b[0;32mdef\u001b[0m \u001b[0mruedas_total\u001b[0m\u001b[0;34m(\u001b[0m\u001b[0;34m)\u001b[0m\u001b[0;34m:\u001b[0m\u001b[0;34m\u001b[0m\u001b[0;34m\u001b[0m\u001b[0m\n\u001b[0;32m---> 26\u001b[0;31m         \u001b[0;32mreturn\u001b[0m \u001b[0mruedas_de_repuesto\u001b[0m \u001b[0;34m+\u001b[0m \u001b[0;36m4\u001b[0m\u001b[0;34m\u001b[0m\u001b[0;34m\u001b[0m\u001b[0m\n\u001b[0m",
      "\u001b[0;31mNameError\u001b[0m: name 'ruedas_de_repuesto' is not defined"
     ]
    }
   ],
   "source": [
    "# No funciona porque el metodo ruedas_de_repuesto no está dentro de la clase. ¿Cómo podríamos hacer para poder usarlo?\n",
    "rt = Coche('Audi')\n",
    "rt.ruedas_total()"
   ]
  },
  {
   "cell_type": "code",
   "execution_count": 89,
   "metadata": {},
   "outputs": [
    {
     "data": {
      "text/plain": [
       "[<__main__.Coche at 0x105c71d90>,\n",
       " <__main__.Coche at 0x105c71c50>,\n",
       " <__main__.Coche at 0x105c71ad0>,\n",
       " <__main__.Coche at 0x105c71990>]"
      ]
     },
     "execution_count": 89,
     "metadata": {},
     "output_type": "execute_result"
    }
   ],
   "source": [
    "# Se pueden crear además varios objetos de la misma clase sin problema\n",
    "\n",
    "coches = [Coche(marca) for marca in ['Toyota', 'Lexus', 'BMW', 'Renault']]\n",
    "coches"
   ]
  },
  {
   "cell_type": "code",
   "execution_count": 90,
   "metadata": {},
   "outputs": [
    {
     "data": {
      "text/plain": [
       "'Gris Antracita'"
      ]
     },
     "execution_count": 90,
     "metadata": {},
     "output_type": "execute_result"
    }
   ],
   "source": [
    "coches[2].get_color()"
   ]
  },
  {
   "cell_type": "markdown",
   "metadata": {},
   "source": [
    "### Programación Orientada a Objetos\n",
    "\n",
    "Las clases son una parte de lo que se denomina programación orientada a objetos (OOP). La idea es tratar de hacer bloques de código reusable para luego aprovechar al máximo estas funcionalidades. Para entender esto vamos a ver la *Herencia* en las clases y vamos a ver como al final podremos crear un grafo de clases."
   ]
  },
  {
   "cell_type": "markdown",
   "metadata": {},
   "source": [
    "## Herencia"
   ]
  },
  {
   "cell_type": "code",
   "execution_count": 91,
   "metadata": {},
   "outputs": [],
   "source": [
    "class Rocket():\n",
    "    # Simula el viaje de un cohete para un juego \n",
    "    # o para simulaciones fisicas.\n",
    "    \n",
    "    def __init__(self, x=0, y=0):\n",
    "        # Posicion inicial del cohete\n",
    "        self.x = x\n",
    "        self.y = y\n",
    "        \n",
    "    def move_rocket(self, x_increment=0, y_increment=1):\n",
    "        # Mueve el cohete en las unidades que se quieras. Por defecto\n",
    "        # se mueve solo 1 en el eje y\n",
    "        self.x += x_increment\n",
    "        self.y += y_increment\n",
    "        \n",
    "    def get_distance(self, other_rocket):\n",
    "        # Podemos darle a la función otro objeto Rocket y que \n",
    "        # calcule la distancia entre ellos (distancia euclídea).\n",
    "        distance = ((self.x-other_rocket.x)**2+(self.y-other_rocket.y)**2)**.5\n",
    "        return distance"
   ]
  },
  {
   "cell_type": "markdown",
   "metadata": {},
   "source": [
    "**Ejercicio 14**: Modifica el método get_distance para se le pasen por fuera del ecosistema de la clases dos objetos Rocket y que haga el mismo cálculo."
   ]
  },
  {
   "cell_type": "markdown",
   "metadata": {},
   "source": [
    "Vamos a crear ahora una clase (hijo) que hereda de la clase (padre) Rocket."
   ]
  },
  {
   "cell_type": "code",
   "execution_count": 93,
   "metadata": {},
   "outputs": [],
   "source": [
    "class Shuttle(Rocket): # <-- Como hereda de la clase Rocket debemos pasarsela como \"variable\" de Shuttle\n",
    "    # Simula los despegues\n",
    "    \n",
    "    def __init__(self, x=0, y=0, flights_completed=0):\n",
    "        super().__init__(x, y) # <-- Esta línea es la que \"me carga\" en el ecosistema de Shuttle todo lo que había en (este caso) Rocket\n",
    "       # por ello necesita este init las variables x e y para darselas a la clase padre. \n",
    "        \n",
    "        self.flights_completed = flights_completed"
   ]
  },
  {
   "cell_type": "code",
   "execution_count": 95,
   "metadata": {},
   "outputs": [
    {
     "data": {
      "text/plain": [
       "(4, 8.8)"
      ]
     },
     "execution_count": 95,
     "metadata": {},
     "output_type": "execute_result"
    }
   ],
   "source": [
    "cohete = Shuttle(x=4, y=8.8, flights_completed=3)\n",
    "cohete.x, cohete.y"
   ]
  },
  {
   "cell_type": "code",
   "execution_count": 97,
   "metadata": {},
   "outputs": [
    {
     "data": {
      "text/plain": [
       "(4, 10.8)"
      ]
     },
     "execution_count": 97,
     "metadata": {},
     "output_type": "execute_result"
    }
   ],
   "source": [
    "# Como podemos ver la variable cohete tiene acceso a todos los métodos de Rocket\n",
    "cohete.move_rocket()\n",
    "cohete.x, cohete.y"
   ]
  },
  {
   "cell_type": "code",
   "execution_count": 98,
   "metadata": {},
   "outputs": [
    {
     "data": {
      "text/plain": [
       "3"
      ]
     },
     "execution_count": 98,
     "metadata": {},
     "output_type": "execute_result"
    }
   ],
   "source": [
    "# Y además podremos acceder a los atributos que tiene Shuttle perse\n",
    "cohete.flights_completed"
   ]
  },
  {
   "cell_type": "markdown",
   "metadata": {},
   "source": [
    "De esta manera podremos reutilizar siempre la clase Rocket y podríamos añadir más funcionalidades que hereden de estas. Hay que tener en cuenta que si a la clase hijo le metemos un método o variable que se llame igual que uno de la clase padre, el del hijo sobreescribirá el del padre."
   ]
  },
  {
   "cell_type": "markdown",
   "metadata": {},
   "source": [
    "**Ejercicio 15**: Crea una clase Persona que contenga nombre, edad, apellidos y sexo además añade métodos que te devuelvan toda esta información mediante prints. Tras esto crea una clase Estudiante y otra Profesor que hereden de persona donde se añadan en uno las materias que da y en el otro las materias que da respectivamente además del nombre de la clase (si la persona es Estudiante o Profesor). Finalmente crea una última clase que herede de las otras dos y que añada destrezas que tendría que tener un estudiante o un profesor."
   ]
  },
  {
   "cell_type": "markdown",
   "metadata": {},
   "source": [
    "# Diferencias entre OOP y programación funcional"
   ]
  },
  {
   "cell_type": "code",
   "execution_count": 102,
   "metadata": {},
   "outputs": [
    {
     "data": {
      "text/plain": [
       "6"
      ]
     },
     "execution_count": 102,
     "metadata": {},
     "output_type": "execute_result"
    }
   ],
   "source": [
    "# OOP\n",
    "def factorial(n):\n",
    "    ret = 1\n",
    "    while n>0:\n",
    "        ret *= n\n",
    "        n -= 1\n",
    "    return ret\n",
    "factorial(3)"
   ]
  },
  {
   "cell_type": "code",
   "execution_count": 106,
   "metadata": {},
   "outputs": [
    {
     "data": {
      "text/plain": [
       "6"
      ]
     },
     "execution_count": 106,
     "metadata": {},
     "output_type": "execute_result"
    }
   ],
   "source": [
    "# Programación funcional\n",
    "def factorial_rec(n):\n",
    "    \"\"\"\n",
    "    Usa la propia función que define para recursivamente hayar el cálculo\n",
    "    \"\"\"\n",
    "    if n == 0:\n",
    "        return 1\n",
    "    else:\n",
    "        return n*factorial_rec(n-1)\n",
    "factorial(3)"
   ]
  },
  {
   "cell_type": "markdown",
   "metadata": {},
   "source": [
    "# Módulos y paquetes"
   ]
  },
  {
   "cell_type": "markdown",
   "metadata": {},
   "source": [
    "La ventaja competitiva que tiene python con respecto a muchos lenguajes es la comunidad. Esta comunidad provee una infinidad de paquete de terceros (third party) que hacen de python un lenguaje universal para infinidad de desarrollos, además de estos tambien python contiene paquetes base que podemos verlas todas [clicando aqui](https://docs.python.org/3/library/) todas estas no tenemos porque preinstalarlas antes de usarlas, algunos ejemplos son:\n",
    "\n",
    "\n",
    "1. os and sys: Tools for interfacing with the operating system, including navigating file directory structures and executing shell commands.\n",
    "2. math and cmath: Mathematical functions and operations on real and complex numbers\n",
    "3. itertools: Tools for constructing and interacting with iterators and generators\n",
    "4. functools: Tools that assist with functional programming\n",
    "5. random: Tools for generating pseudorandom numbers\n",
    "6. pickle: Tools for object persistence: saving objects to and loading objects from disk\n",
    "7. json and csv: Tools for reading JSON-formatted and CSV-formatted files.\n",
    "8. urllib: Tools for doing HTTP and other web requests.\n",
    "\n",
    "\n",
    "Todos los imports suelen escribirse al principio del código"
   ]
  },
  {
   "cell_type": "markdown",
   "metadata": {},
   "source": [
    "### Importar explicitamente"
   ]
  },
  {
   "cell_type": "code",
   "execution_count": 110,
   "metadata": {},
   "outputs": [
    {
     "data": {
      "text/plain": [
       "11.0"
      ]
     },
     "execution_count": 110,
     "metadata": {},
     "output_type": "execute_result"
    }
   ],
   "source": [
    "import math\n",
    "\n",
    "# Tienes que explicitar que quieres de la librería math la función sqrt (raiz cuadrada)\n",
    "math.sqrt(121)"
   ]
  },
  {
   "cell_type": "markdown",
   "metadata": {},
   "source": [
    "### Importar explicitamente con alias"
   ]
  },
  {
   "cell_type": "code",
   "execution_count": 114,
   "metadata": {},
   "outputs": [
    {
     "data": {
      "text/plain": [
       "0"
      ]
     },
     "execution_count": 114,
     "metadata": {},
     "output_type": "execute_result"
    }
   ],
   "source": [
    "import random as r\n",
    "\n",
    "# Importas una librería poniendole un alias que luego usarás para llamar a las funciones\n",
    "r.randint(0, 2) # <-- Devuelveme un entero aleatorio entre 0 y 2"
   ]
  },
  {
   "cell_type": "markdown",
   "metadata": {},
   "source": [
    "### Importar funciones concretas"
   ]
  },
  {
   "cell_type": "code",
   "execution_count": 116,
   "metadata": {},
   "outputs": [
    {
     "data": {
      "text/plain": [
       "-1.0"
      ]
     },
     "execution_count": 116,
     "metadata": {},
     "output_type": "execute_result"
    }
   ],
   "source": [
    "from math import pi, cos\n",
    "\n",
    "cos(pi)"
   ]
  },
  {
   "cell_type": "markdown",
   "metadata": {},
   "source": [
    "### Importar implicitamente"
   ]
  },
  {
   "cell_type": "code",
   "execution_count": 119,
   "metadata": {},
   "outputs": [
    {
     "data": {
      "text/plain": [
       "1.2246467991473532e-16"
      ]
     },
     "execution_count": 119,
     "metadata": {},
     "output_type": "execute_result"
    }
   ],
   "source": [
    "from math import * # De la librería math importame todo\n",
    "\n",
    "sin(pi) # Se considera 0 por la precisión de la máquina"
   ]
  },
  {
   "cell_type": "markdown",
   "metadata": {},
   "source": [
    "### Importar third party"
   ]
  },
  {
   "cell_type": "code",
   "execution_count": 21,
   "metadata": {},
   "outputs": [
    {
     "ename": "ModuleNotFoundError",
     "evalue": "No module named 'numpy'",
     "output_type": "error",
     "traceback": [
      "\u001b[0;31m---------------------------------------------------------------------------\u001b[0m",
      "\u001b[0;31mModuleNotFoundError\u001b[0m                       Traceback (most recent call last)",
      "\u001b[0;32m<ipython-input-21-0aa0b027fcb6>\u001b[0m in \u001b[0;36m<module>\u001b[0;34m\u001b[0m\n\u001b[0;32m----> 1\u001b[0;31m \u001b[0;32mimport\u001b[0m \u001b[0mnumpy\u001b[0m \u001b[0;32mas\u001b[0m \u001b[0mnp\u001b[0m\u001b[0;34m\u001b[0m\u001b[0;34m\u001b[0m\u001b[0m\n\u001b[0m",
      "\u001b[0;31mModuleNotFoundError\u001b[0m: No module named 'numpy'"
     ]
    }
   ],
   "source": [
    "import numpy as np"
   ]
  },
  {
   "cell_type": "code",
   "execution_count": null,
   "metadata": {},
   "outputs": [],
   "source": [
    "!conda install -y numpy"
   ]
  },
  {
   "cell_type": "code",
   "execution_count": null,
   "metadata": {},
   "outputs": [],
   "source": [
    "!pip install pandas"
   ]
  }
 ],
 "metadata": {
  "kernelspec": {
   "display_name": "Python 3",
   "language": "python",
   "name": "python3"
  },
  "language_info": {
   "codemirror_mode": {
    "name": "ipython",
    "version": 3
   },
   "file_extension": ".py",
   "mimetype": "text/x-python",
   "name": "python",
   "nbconvert_exporter": "python",
   "pygments_lexer": "ipython3",
   "version": "3.7.4"
  }
 },
 "nbformat": 4,
 "nbformat_minor": 4
}
