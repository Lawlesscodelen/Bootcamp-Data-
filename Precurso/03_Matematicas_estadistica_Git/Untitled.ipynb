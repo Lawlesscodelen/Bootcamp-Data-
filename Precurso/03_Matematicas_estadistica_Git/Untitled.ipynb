{
 "cells": [
  {
   "cell_type": "code",
   "execution_count": null,
   "metadata": {},
   "outputs": [
    {
     "name": "stdout",
     "output_type": "stream",
     "text": [
      "Por favor, introduzca un valor correcto\n"
     ]
    },
    {
     "name": "stdin",
     "output_type": "stream",
     "text": [
      "Busque un animal Perro\n"
     ]
    }
   ],
   "source": [
    "animales = [\"Burro\", \"Perro\", \"Gato\", \"Elefante\", \"Jirafa\", \"Ratón\", \"Hurón\"]\n",
    "def Animal(animal):\n",
    "    while animal != str():\n",
    "        print(\"Por favor, introduzca un valor correcto\")\n",
    "        animal = input(\"Busque un animal\").capitalize\n",
    "        if animal not in animales:\n",
    "            print(\"Este animal no está en la lista\")\n",
    "        else:\n",
    "            print(f\"El {animal} está en la posición {animales.index(animal)}\")\n",
    "\n",
    "Animal(3)"
   ]
  },
  {
   "cell_type": "code",
   "execution_count": null,
   "metadata": {},
   "outputs": [],
   "source": []
  },
  {
   "cell_type": "code",
   "execution_count": null,
   "metadata": {},
   "outputs": [],
   "source": []
  }
 ],
 "metadata": {
  "kernelspec": {
   "display_name": "Python 3",
   "language": "python",
   "name": "python3"
  },
  "language_info": {
   "codemirror_mode": {
    "name": "ipython",
    "version": 3
   },
   "file_extension": ".py",
   "mimetype": "text/x-python",
   "name": "python",
   "nbconvert_exporter": "python",
   "pygments_lexer": "ipython3",
   "version": "3.7.4"
  }
 },
 "nbformat": 4,
 "nbformat_minor": 4
}
