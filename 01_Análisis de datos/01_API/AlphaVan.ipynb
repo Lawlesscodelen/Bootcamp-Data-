{
 "cells": [
  {
   "cell_type": "code",
   "execution_count": 1,
   "metadata": {},
   "outputs": [],
   "source": [
    "import requests\n",
    "import json\n",
    "import pandas as pd"
   ]
  },
  {
   "cell_type": "code",
   "execution_count": 3,
   "metadata": {},
   "outputs": [],
   "source": [
    "api_key = {'api_key': '1'}"
   ]
  },
  {
   "cell_type": "code",
   "execution_count": 4,
   "metadata": {},
   "outputs": [],
   "source": [
    "url = 'https://www.alphavantage.co/query?'\n",
    "funcion = 'function=TIME_SERIES_DAILY&'\n",
    "stock = 'symbol=AAPL&'\n",
    "key = f\"apikey={api_key.get('api_key')}&\"\n",
    "output = 'outputsize=full'"
   ]
  },
  {
   "cell_type": "code",
   "execution_count": 5,
   "metadata": {},
   "outputs": [
    {
     "data": {
      "text/plain": [
       "'https://www.alphavantage.co/query?function=TIME_SERIES_DAILY&symbol=AAPL&apikey=1&'"
      ]
     },
     "execution_count": 5,
     "metadata": {},
     "output_type": "execute_result"
    }
   ],
   "source": [
    "url + funcion + stock + key"
   ]
  },
  {
   "cell_type": "code",
   "execution_count": 6,
   "metadata": {},
   "outputs": [],
   "source": [
    "for stock in ['SAN', 'MSFT', 'AAPL', 'AMZN', 'VOD', 'BBVA']:\n",
    "    url = 'https://www.alphavantage.co/query?'\n",
    "    funcion = 'function=TIME_SERIES_DAILY&'\n",
    "    stock = f'symbol={stock}&'\n",
    "    key = f\"apikey={api_key.get('api_key')}&\"\n",
    "    output = 'outputsize=full'\n",
    "    resp = requests.get(url + funcion + stock + key + output)"
   ]
  },
  {
   "cell_type": "code",
   "execution_count": 8,
   "metadata": {},
   "outputs": [
    {
     "data": {
      "text/plain": [
       "'{\\n    \"Note\": \"Thank you for using Alpha Vantage! Our standard API call frequency is 5 calls per minute and 500 calls per day. Please visit https://www.alphavantage.co/premium/ if you would like to target a higher API call frequency.\"\\n}'"
      ]
     },
     "execution_count": 8,
     "metadata": {},
     "output_type": "execute_result"
    }
   ],
   "source": [
    "resp.text"
   ]
  },
  {
   "cell_type": "code",
   "execution_count": 32,
   "metadata": {},
   "outputs": [],
   "source": [
    "resp = requests.get(url + funcion + stock + key)"
   ]
  },
  {
   "cell_type": "code",
   "execution_count": 33,
   "metadata": {},
   "outputs": [],
   "source": [
    "resp_dict = json.loads(resp.text)"
   ]
  },
  {
   "cell_type": "code",
   "execution_count": 34,
   "metadata": {},
   "outputs": [
    {
     "data": {
      "text/plain": [
       "dict_keys(['Meta Data', 'Time Series (Daily)'])"
      ]
     },
     "execution_count": 34,
     "metadata": {},
     "output_type": "execute_result"
    }
   ],
   "source": [
    "resp_dict.keys()"
   ]
  },
  {
   "cell_type": "code",
   "execution_count": 35,
   "metadata": {},
   "outputs": [
    {
     "data": {
      "text/plain": [
       "{'1. Information': 'Daily Prices (open, high, low, close) and Volumes',\n",
       " '2. Symbol': 'AAPL',\n",
       " '3. Last Refreshed': '2020-03-13',\n",
       " '4. Output Size': 'Compact',\n",
       " '5. Time Zone': 'US/Eastern'}"
      ]
     },
     "execution_count": 35,
     "metadata": {},
     "output_type": "execute_result"
    }
   ],
   "source": [
    "resp_dict.get('Meta Data')"
   ]
  },
  {
   "cell_type": "code",
   "execution_count": 40,
   "metadata": {},
   "outputs": [
    {
     "data": {
      "text/plain": [
       "{'2020-03-13': '277.9700',\n",
       " '2020-03-12': '248.2300',\n",
       " '2020-03-11': '275.4300',\n",
       " '2020-03-10': '285.3400',\n",
       " '2020-03-09': '266.1700',\n",
       " '2020-03-06': '289.0300',\n",
       " '2020-03-05': '292.9200',\n",
       " '2020-03-04': '302.7400',\n",
       " '2020-03-03': '289.3200',\n",
       " '2020-03-02': '298.8100',\n",
       " '2020-02-28': '273.3600',\n",
       " '2020-02-27': '273.5200',\n",
       " '2020-02-26': '292.6500',\n",
       " '2020-02-25': '288.0800',\n",
       " '2020-02-24': '298.1800',\n",
       " '2020-02-21': '313.0500',\n",
       " '2020-02-20': '320.3000',\n",
       " '2020-02-19': '323.6200',\n",
       " '2020-02-18': '319.0000',\n",
       " '2020-02-14': '324.9500',\n",
       " '2020-02-13': '324.8700',\n",
       " '2020-02-12': '327.2000',\n",
       " '2020-02-11': '319.6100',\n",
       " '2020-02-10': '321.5500',\n",
       " '2020-02-07': '320.0300',\n",
       " '2020-02-06': '325.2100',\n",
       " '2020-02-05': '321.4500',\n",
       " '2020-02-04': '318.8500',\n",
       " '2020-02-03': '308.6600',\n",
       " '2020-01-31': '309.5100',\n",
       " '2020-01-30': '323.8700',\n",
       " '2020-01-29': '324.3400',\n",
       " '2020-01-28': '317.6900',\n",
       " '2020-01-27': '308.9500',\n",
       " '2020-01-24': '318.3100',\n",
       " '2020-01-23': '319.2300',\n",
       " '2020-01-22': '317.7000',\n",
       " '2020-01-21': '316.5700',\n",
       " '2020-01-17': '318.7300',\n",
       " '2020-01-16': '315.2400',\n",
       " '2020-01-15': '311.3400',\n",
       " '2020-01-14': '312.6800',\n",
       " '2020-01-13': '316.9600',\n",
       " '2020-01-10': '310.3300',\n",
       " '2020-01-09': '309.6300',\n",
       " '2020-01-08': '303.1900',\n",
       " '2020-01-07': '298.3900',\n",
       " '2020-01-06': '299.8000',\n",
       " '2020-01-03': '297.4300',\n",
       " '2020-01-02': '300.3500',\n",
       " '2019-12-31': '293.6500',\n",
       " '2019-12-30': '291.5200',\n",
       " '2019-12-27': '289.8000',\n",
       " '2019-12-26': '289.9100',\n",
       " '2019-12-24': '284.2700',\n",
       " '2019-12-23': '284.0000',\n",
       " '2019-12-20': '279.4400',\n",
       " '2019-12-19': '280.0200',\n",
       " '2019-12-18': '279.7400',\n",
       " '2019-12-17': '280.4100',\n",
       " '2019-12-16': '279.8600',\n",
       " '2019-12-13': '275.1500',\n",
       " '2019-12-12': '271.4600',\n",
       " '2019-12-11': '270.7700',\n",
       " '2019-12-10': '268.4800',\n",
       " '2019-12-09': '266.9200',\n",
       " '2019-12-06': '270.7100',\n",
       " '2019-12-05': '265.5800',\n",
       " '2019-12-04': '261.7400',\n",
       " '2019-12-03': '259.4500',\n",
       " '2019-12-02': '264.1600',\n",
       " '2019-11-29': '267.2500',\n",
       " '2019-11-27': '267.8400',\n",
       " '2019-11-26': '264.2900',\n",
       " '2019-11-25': '266.3700',\n",
       " '2019-11-22': '261.7800',\n",
       " '2019-11-21': '262.0100',\n",
       " '2019-11-20': '263.1900',\n",
       " '2019-11-19': '266.2900',\n",
       " '2019-11-18': '267.1000',\n",
       " '2019-11-15': '265.7600',\n",
       " '2019-11-14': '262.6400',\n",
       " '2019-11-13': '264.4700',\n",
       " '2019-11-12': '261.9600',\n",
       " '2019-11-11': '262.2000',\n",
       " '2019-11-08': '260.1400',\n",
       " '2019-11-07': '259.4300',\n",
       " '2019-11-06': '257.2400',\n",
       " '2019-11-05': '257.1300',\n",
       " '2019-11-04': '257.5000',\n",
       " '2019-11-01': '255.8200',\n",
       " '2019-10-31': '248.7600',\n",
       " '2019-10-30': '243.2600',\n",
       " '2019-10-29': '243.2900',\n",
       " '2019-10-28': '249.0500',\n",
       " '2019-10-25': '246.5800',\n",
       " '2019-10-24': '243.5800',\n",
       " '2019-10-23': '243.1800',\n",
       " '2019-10-22': '239.9600',\n",
       " '2019-10-21': '240.5100'}"
      ]
     },
     "execution_count": 40,
     "metadata": {},
     "output_type": "execute_result"
    }
   ],
   "source": [
    "cierre = {}\n",
    "for key in resp_dict.get('Time Series (Daily)').keys():\n",
    "    close = resp_dict.get('Time Series (Daily)')[key].get('4. close')\n",
    "    cierre[key] = close\n",
    "\n",
    "cierre\n",
    "\n",
    "DF.plot(kind='scatter', color='red', )"
   ]
  },
  {
   "cell_type": "code",
   "execution_count": 17,
   "metadata": {},
   "outputs": [],
   "source": [
    "resp = requests.get(url + funcion + stock + key + output)"
   ]
  },
  {
   "cell_type": "code",
   "execution_count": 18,
   "metadata": {},
   "outputs": [],
   "source": [
    "resp_dict = json.loads(resp.text)"
   ]
  },
  {
   "cell_type": "code",
   "execution_count": 21,
   "metadata": {},
   "outputs": [
    {
     "data": {
      "text/plain": [
       "5033"
      ]
     },
     "execution_count": 21,
     "metadata": {},
     "output_type": "execute_result"
    }
   ],
   "source": [
    "len(resp_dict.get('Time Series (Daily)'))"
   ]
  },
  {
   "cell_type": "code",
   "execution_count": null,
   "metadata": {},
   "outputs": [],
   "source": [
    "np.ravel()?"
   ]
  },
  {
   "cell_type": "code",
   "execution_count": null,
   "metadata": {},
   "outputs": [],
   "source": []
  }
 ],
 "metadata": {
  "kernelspec": {
   "display_name": "Python 3",
   "language": "python",
   "name": "python3"
  },
  "language_info": {
   "codemirror_mode": {
    "name": "ipython",
    "version": 3
   },
   "file_extension": ".py",
   "mimetype": "text/x-python",
   "name": "python",
   "nbconvert_exporter": "python",
   "pygments_lexer": "ipython3",
   "version": "3.7.4"
  }
 },
 "nbformat": 4,
 "nbformat_minor": 4
}
